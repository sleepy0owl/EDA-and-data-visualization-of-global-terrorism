{
 "cells": [
  {
   "cell_type": "code",
   "execution_count": 1,
   "metadata": {
    "_cell_guid": "b1076dfc-b9ad-4769-8c92-a6c4dae69d19",
    "_uuid": "8f2839f25d086af736a60e9eeb907d3b93b6e0e5"
   },
   "outputs": [
    {
     "data": {
      "text/html": [
       "<script type=\"text/javascript\">window.PlotlyConfig = {MathJaxConfig: 'local'};</script><script type=\"text/javascript\">if (window.MathJax) {MathJax.Hub.Config({SVG: {font: \"STIX-Web\"}});}</script><script>requirejs.config({paths: { 'plotly': ['https://cdn.plot.ly/plotly-latest.min']},});if(!window._Plotly) {require(['plotly'],function(plotly) {window._Plotly=plotly;});}</script>"
      ],
      "text/vnd.plotly.v1+html": [
       "<script type=\"text/javascript\">window.PlotlyConfig = {MathJaxConfig: 'local'};</script><script type=\"text/javascript\">if (window.MathJax) {MathJax.Hub.Config({SVG: {font: \"STIX-Web\"}});}</script><script>requirejs.config({paths: { 'plotly': ['https://cdn.plot.ly/plotly-latest.min']},});if(!window._Plotly) {require(['plotly'],function(plotly) {window._Plotly=plotly;});}</script>"
      ]
     },
     "metadata": {},
     "output_type": "display_data"
    },
    {
     "name": "stdout",
     "output_type": "stream",
     "text": [
      "['globalterrorismdb_0718dist.csv']\n"
     ]
    }
   ],
   "source": [
    "# This Python 3 environment comes with many helpful analytics libraries installed\n",
    "# It is defined by the kaggle/python docker image: https://github.com/kaggle/docker-python\n",
    "# For example, here's several helpful packages to load in \n",
    "\n",
    "import numpy as np # linear algebra\n",
    "import pandas as pd # data processing, CSV file I/O (e.g. pd.read_csv)\n",
    "\n",
    "# Input data files are available in the \"../input/\" directory.\n",
    "# For example, running this (by clicking run or pressing Shift+Enter) will list the files in the input directory\n",
    "import seaborn as sns\n",
    "import matplotlib.pyplot as plt\n",
    "\n",
    "#plotly\n",
    "import plotly.plotly as py\n",
    "from plotly.offline import iplot, init_notebook_mode\n",
    "import plotly.graph_objs as go\n",
    "import plotly.io as pio\n",
    "init_notebook_mode(connected=True)\n",
    "import os\n",
    "print(os.listdir(\"../input\"))\n",
    "\n",
    "# Any results you write to the current directory are saved as output."
   ]
  },
  {
   "cell_type": "markdown",
   "metadata": {
    "_uuid": "6028a45b809c004a267e7ec0a8264655f749de9b"
   },
   "source": [
    "## Load the data"
   ]
  },
  {
   "cell_type": "code",
   "execution_count": 2,
   "metadata": {
    "_cell_guid": "79c7e3d0-c299-4dcb-8224-4455121ee9b0",
    "_uuid": "d629ff2d2480ee46fbb7e2d37f6b5fab8052498a"
   },
   "outputs": [
    {
     "name": "stderr",
     "output_type": "stream",
     "text": [
      "/opt/conda/lib/python3.6/site-packages/IPython/core/interactiveshell.py:2785: DtypeWarning:\n",
      "\n",
      "Columns (4,6,31,33,61,62,63,76,79,90,92,94,96,114,115,121) have mixed types. Specify dtype option on import or set low_memory=False.\n",
      "\n"
     ]
    }
   ],
   "source": [
    "df = pd.read_csv('../input/globalterrorismdb_0718dist.csv', encoding='ISO-8859-1')"
   ]
  },
  {
   "cell_type": "markdown",
   "metadata": {
    "_uuid": "cbf247fa4e7d5188593e02629ff91bc44918e656"
   },
   "source": [
    "Here I am using 'ISO-8859-1' encoding to load the dataset beacuse 'utf-8' codec can't decode byte 0xe9 in position 18'"
   ]
  },
  {
   "cell_type": "markdown",
   "metadata": {
    "_uuid": "04033f99925fd2558f1f6b16ea9d01edf3b04522"
   },
   "source": [
    "## Some insights and basic statistics about the dataset"
   ]
  },
  {
   "cell_type": "code",
   "execution_count": 3,
   "metadata": {
    "_uuid": "4c0068cb0b89e355ad2a0c022d4291c8f17a09c5"
   },
   "outputs": [
    {
     "data": {
      "text/html": [
       "<div>\n",
       "<style scoped>\n",
       "    .dataframe tbody tr th:only-of-type {\n",
       "        vertical-align: middle;\n",
       "    }\n",
       "\n",
       "    .dataframe tbody tr th {\n",
       "        vertical-align: top;\n",
       "    }\n",
       "\n",
       "    .dataframe thead th {\n",
       "        text-align: right;\n",
       "    }\n",
       "</style>\n",
       "<table border=\"1\" class=\"dataframe\">\n",
       "  <thead>\n",
       "    <tr style=\"text-align: right;\">\n",
       "      <th></th>\n",
       "      <th>eventid</th>\n",
       "      <th>iyear</th>\n",
       "      <th>imonth</th>\n",
       "      <th>iday</th>\n",
       "      <th>approxdate</th>\n",
       "      <th>extended</th>\n",
       "      <th>resolution</th>\n",
       "      <th>country</th>\n",
       "      <th>country_txt</th>\n",
       "      <th>region</th>\n",
       "      <th>region_txt</th>\n",
       "      <th>provstate</th>\n",
       "      <th>city</th>\n",
       "      <th>latitude</th>\n",
       "      <th>longitude</th>\n",
       "      <th>specificity</th>\n",
       "      <th>vicinity</th>\n",
       "      <th>location</th>\n",
       "      <th>summary</th>\n",
       "      <th>crit1</th>\n",
       "      <th>crit2</th>\n",
       "      <th>crit3</th>\n",
       "      <th>doubtterr</th>\n",
       "      <th>alternative</th>\n",
       "      <th>alternative_txt</th>\n",
       "      <th>multiple</th>\n",
       "      <th>success</th>\n",
       "      <th>suicide</th>\n",
       "      <th>attacktype1</th>\n",
       "      <th>attacktype1_txt</th>\n",
       "      <th>attacktype2</th>\n",
       "      <th>attacktype2_txt</th>\n",
       "      <th>attacktype3</th>\n",
       "      <th>attacktype3_txt</th>\n",
       "      <th>targtype1</th>\n",
       "      <th>targtype1_txt</th>\n",
       "      <th>targsubtype1</th>\n",
       "      <th>targsubtype1_txt</th>\n",
       "      <th>corp1</th>\n",
       "      <th>target1</th>\n",
       "      <th>...</th>\n",
       "      <th>weapsubtype4</th>\n",
       "      <th>weapsubtype4_txt</th>\n",
       "      <th>weapdetail</th>\n",
       "      <th>nkill</th>\n",
       "      <th>nkillus</th>\n",
       "      <th>nkillter</th>\n",
       "      <th>nwound</th>\n",
       "      <th>nwoundus</th>\n",
       "      <th>nwoundte</th>\n",
       "      <th>property</th>\n",
       "      <th>propextent</th>\n",
       "      <th>propextent_txt</th>\n",
       "      <th>propvalue</th>\n",
       "      <th>propcomment</th>\n",
       "      <th>ishostkid</th>\n",
       "      <th>nhostkid</th>\n",
       "      <th>nhostkidus</th>\n",
       "      <th>nhours</th>\n",
       "      <th>ndays</th>\n",
       "      <th>divert</th>\n",
       "      <th>kidhijcountry</th>\n",
       "      <th>ransom</th>\n",
       "      <th>ransomamt</th>\n",
       "      <th>ransomamtus</th>\n",
       "      <th>ransompaid</th>\n",
       "      <th>ransompaidus</th>\n",
       "      <th>ransomnote</th>\n",
       "      <th>hostkidoutcome</th>\n",
       "      <th>hostkidoutcome_txt</th>\n",
       "      <th>nreleased</th>\n",
       "      <th>addnotes</th>\n",
       "      <th>scite1</th>\n",
       "      <th>scite2</th>\n",
       "      <th>scite3</th>\n",
       "      <th>dbsource</th>\n",
       "      <th>INT_LOG</th>\n",
       "      <th>INT_IDEO</th>\n",
       "      <th>INT_MISC</th>\n",
       "      <th>INT_ANY</th>\n",
       "      <th>related</th>\n",
       "    </tr>\n",
       "  </thead>\n",
       "  <tbody>\n",
       "    <tr>\n",
       "      <th>0</th>\n",
       "      <td>197000000001</td>\n",
       "      <td>1970</td>\n",
       "      <td>7</td>\n",
       "      <td>2</td>\n",
       "      <td>NaN</td>\n",
       "      <td>0</td>\n",
       "      <td>NaN</td>\n",
       "      <td>58</td>\n",
       "      <td>Dominican Republic</td>\n",
       "      <td>2</td>\n",
       "      <td>Central America &amp; Caribbean</td>\n",
       "      <td>NaN</td>\n",
       "      <td>Santo Domingo</td>\n",
       "      <td>18.456792</td>\n",
       "      <td>-69.951164</td>\n",
       "      <td>1.0</td>\n",
       "      <td>0</td>\n",
       "      <td>NaN</td>\n",
       "      <td>NaN</td>\n",
       "      <td>1</td>\n",
       "      <td>1</td>\n",
       "      <td>1</td>\n",
       "      <td>0.0</td>\n",
       "      <td>NaN</td>\n",
       "      <td>NaN</td>\n",
       "      <td>0.0</td>\n",
       "      <td>1</td>\n",
       "      <td>0</td>\n",
       "      <td>1</td>\n",
       "      <td>Assassination</td>\n",
       "      <td>NaN</td>\n",
       "      <td>NaN</td>\n",
       "      <td>NaN</td>\n",
       "      <td>NaN</td>\n",
       "      <td>14</td>\n",
       "      <td>Private Citizens &amp; Property</td>\n",
       "      <td>68.0</td>\n",
       "      <td>Named Civilian</td>\n",
       "      <td>NaN</td>\n",
       "      <td>Julio Guzman</td>\n",
       "      <td>...</td>\n",
       "      <td>NaN</td>\n",
       "      <td>NaN</td>\n",
       "      <td>NaN</td>\n",
       "      <td>1.0</td>\n",
       "      <td>NaN</td>\n",
       "      <td>NaN</td>\n",
       "      <td>0.0</td>\n",
       "      <td>NaN</td>\n",
       "      <td>NaN</td>\n",
       "      <td>0</td>\n",
       "      <td>NaN</td>\n",
       "      <td>NaN</td>\n",
       "      <td>NaN</td>\n",
       "      <td>NaN</td>\n",
       "      <td>0.0</td>\n",
       "      <td>NaN</td>\n",
       "      <td>NaN</td>\n",
       "      <td>NaN</td>\n",
       "      <td>NaN</td>\n",
       "      <td>NaN</td>\n",
       "      <td>NaN</td>\n",
       "      <td>0.0</td>\n",
       "      <td>NaN</td>\n",
       "      <td>NaN</td>\n",
       "      <td>NaN</td>\n",
       "      <td>NaN</td>\n",
       "      <td>NaN</td>\n",
       "      <td>NaN</td>\n",
       "      <td>NaN</td>\n",
       "      <td>NaN</td>\n",
       "      <td>NaN</td>\n",
       "      <td>NaN</td>\n",
       "      <td>NaN</td>\n",
       "      <td>NaN</td>\n",
       "      <td>PGIS</td>\n",
       "      <td>0</td>\n",
       "      <td>0</td>\n",
       "      <td>0</td>\n",
       "      <td>0</td>\n",
       "      <td>NaN</td>\n",
       "    </tr>\n",
       "    <tr>\n",
       "      <th>1</th>\n",
       "      <td>197000000002</td>\n",
       "      <td>1970</td>\n",
       "      <td>0</td>\n",
       "      <td>0</td>\n",
       "      <td>NaN</td>\n",
       "      <td>0</td>\n",
       "      <td>NaN</td>\n",
       "      <td>130</td>\n",
       "      <td>Mexico</td>\n",
       "      <td>1</td>\n",
       "      <td>North America</td>\n",
       "      <td>Federal</td>\n",
       "      <td>Mexico city</td>\n",
       "      <td>19.371887</td>\n",
       "      <td>-99.086624</td>\n",
       "      <td>1.0</td>\n",
       "      <td>0</td>\n",
       "      <td>NaN</td>\n",
       "      <td>NaN</td>\n",
       "      <td>1</td>\n",
       "      <td>1</td>\n",
       "      <td>1</td>\n",
       "      <td>0.0</td>\n",
       "      <td>NaN</td>\n",
       "      <td>NaN</td>\n",
       "      <td>0.0</td>\n",
       "      <td>1</td>\n",
       "      <td>0</td>\n",
       "      <td>6</td>\n",
       "      <td>Hostage Taking (Kidnapping)</td>\n",
       "      <td>NaN</td>\n",
       "      <td>NaN</td>\n",
       "      <td>NaN</td>\n",
       "      <td>NaN</td>\n",
       "      <td>7</td>\n",
       "      <td>Government (Diplomatic)</td>\n",
       "      <td>45.0</td>\n",
       "      <td>Diplomatic Personnel (outside of embassy, cons...</td>\n",
       "      <td>Belgian Ambassador Daughter</td>\n",
       "      <td>Nadine Chaval, daughter</td>\n",
       "      <td>...</td>\n",
       "      <td>NaN</td>\n",
       "      <td>NaN</td>\n",
       "      <td>NaN</td>\n",
       "      <td>0.0</td>\n",
       "      <td>NaN</td>\n",
       "      <td>NaN</td>\n",
       "      <td>0.0</td>\n",
       "      <td>NaN</td>\n",
       "      <td>NaN</td>\n",
       "      <td>0</td>\n",
       "      <td>NaN</td>\n",
       "      <td>NaN</td>\n",
       "      <td>NaN</td>\n",
       "      <td>NaN</td>\n",
       "      <td>1.0</td>\n",
       "      <td>1.0</td>\n",
       "      <td>0.0</td>\n",
       "      <td>NaN</td>\n",
       "      <td>NaN</td>\n",
       "      <td>NaN</td>\n",
       "      <td>Mexico</td>\n",
       "      <td>1.0</td>\n",
       "      <td>800000.0</td>\n",
       "      <td>NaN</td>\n",
       "      <td>NaN</td>\n",
       "      <td>NaN</td>\n",
       "      <td>NaN</td>\n",
       "      <td>NaN</td>\n",
       "      <td>NaN</td>\n",
       "      <td>NaN</td>\n",
       "      <td>NaN</td>\n",
       "      <td>NaN</td>\n",
       "      <td>NaN</td>\n",
       "      <td>NaN</td>\n",
       "      <td>PGIS</td>\n",
       "      <td>0</td>\n",
       "      <td>1</td>\n",
       "      <td>1</td>\n",
       "      <td>1</td>\n",
       "      <td>NaN</td>\n",
       "    </tr>\n",
       "    <tr>\n",
       "      <th>2</th>\n",
       "      <td>197001000001</td>\n",
       "      <td>1970</td>\n",
       "      <td>1</td>\n",
       "      <td>0</td>\n",
       "      <td>NaN</td>\n",
       "      <td>0</td>\n",
       "      <td>NaN</td>\n",
       "      <td>160</td>\n",
       "      <td>Philippines</td>\n",
       "      <td>5</td>\n",
       "      <td>Southeast Asia</td>\n",
       "      <td>Tarlac</td>\n",
       "      <td>Unknown</td>\n",
       "      <td>15.478598</td>\n",
       "      <td>120.599741</td>\n",
       "      <td>4.0</td>\n",
       "      <td>0</td>\n",
       "      <td>NaN</td>\n",
       "      <td>NaN</td>\n",
       "      <td>1</td>\n",
       "      <td>1</td>\n",
       "      <td>1</td>\n",
       "      <td>0.0</td>\n",
       "      <td>NaN</td>\n",
       "      <td>NaN</td>\n",
       "      <td>0.0</td>\n",
       "      <td>1</td>\n",
       "      <td>0</td>\n",
       "      <td>1</td>\n",
       "      <td>Assassination</td>\n",
       "      <td>NaN</td>\n",
       "      <td>NaN</td>\n",
       "      <td>NaN</td>\n",
       "      <td>NaN</td>\n",
       "      <td>10</td>\n",
       "      <td>Journalists &amp; Media</td>\n",
       "      <td>54.0</td>\n",
       "      <td>Radio Journalist/Staff/Facility</td>\n",
       "      <td>Voice of America</td>\n",
       "      <td>Employee</td>\n",
       "      <td>...</td>\n",
       "      <td>NaN</td>\n",
       "      <td>NaN</td>\n",
       "      <td>NaN</td>\n",
       "      <td>1.0</td>\n",
       "      <td>NaN</td>\n",
       "      <td>NaN</td>\n",
       "      <td>0.0</td>\n",
       "      <td>NaN</td>\n",
       "      <td>NaN</td>\n",
       "      <td>0</td>\n",
       "      <td>NaN</td>\n",
       "      <td>NaN</td>\n",
       "      <td>NaN</td>\n",
       "      <td>NaN</td>\n",
       "      <td>0.0</td>\n",
       "      <td>NaN</td>\n",
       "      <td>NaN</td>\n",
       "      <td>NaN</td>\n",
       "      <td>NaN</td>\n",
       "      <td>NaN</td>\n",
       "      <td>NaN</td>\n",
       "      <td>0.0</td>\n",
       "      <td>NaN</td>\n",
       "      <td>NaN</td>\n",
       "      <td>NaN</td>\n",
       "      <td>NaN</td>\n",
       "      <td>NaN</td>\n",
       "      <td>NaN</td>\n",
       "      <td>NaN</td>\n",
       "      <td>NaN</td>\n",
       "      <td>NaN</td>\n",
       "      <td>NaN</td>\n",
       "      <td>NaN</td>\n",
       "      <td>NaN</td>\n",
       "      <td>PGIS</td>\n",
       "      <td>-9</td>\n",
       "      <td>-9</td>\n",
       "      <td>1</td>\n",
       "      <td>1</td>\n",
       "      <td>NaN</td>\n",
       "    </tr>\n",
       "    <tr>\n",
       "      <th>3</th>\n",
       "      <td>197001000002</td>\n",
       "      <td>1970</td>\n",
       "      <td>1</td>\n",
       "      <td>0</td>\n",
       "      <td>NaN</td>\n",
       "      <td>0</td>\n",
       "      <td>NaN</td>\n",
       "      <td>78</td>\n",
       "      <td>Greece</td>\n",
       "      <td>8</td>\n",
       "      <td>Western Europe</td>\n",
       "      <td>Attica</td>\n",
       "      <td>Athens</td>\n",
       "      <td>37.997490</td>\n",
       "      <td>23.762728</td>\n",
       "      <td>1.0</td>\n",
       "      <td>0</td>\n",
       "      <td>NaN</td>\n",
       "      <td>NaN</td>\n",
       "      <td>1</td>\n",
       "      <td>1</td>\n",
       "      <td>1</td>\n",
       "      <td>0.0</td>\n",
       "      <td>NaN</td>\n",
       "      <td>NaN</td>\n",
       "      <td>0.0</td>\n",
       "      <td>1</td>\n",
       "      <td>0</td>\n",
       "      <td>3</td>\n",
       "      <td>Bombing/Explosion</td>\n",
       "      <td>NaN</td>\n",
       "      <td>NaN</td>\n",
       "      <td>NaN</td>\n",
       "      <td>NaN</td>\n",
       "      <td>7</td>\n",
       "      <td>Government (Diplomatic)</td>\n",
       "      <td>46.0</td>\n",
       "      <td>Embassy/Consulate</td>\n",
       "      <td>NaN</td>\n",
       "      <td>U.S. Embassy</td>\n",
       "      <td>...</td>\n",
       "      <td>NaN</td>\n",
       "      <td>NaN</td>\n",
       "      <td>Explosive</td>\n",
       "      <td>NaN</td>\n",
       "      <td>NaN</td>\n",
       "      <td>NaN</td>\n",
       "      <td>NaN</td>\n",
       "      <td>NaN</td>\n",
       "      <td>NaN</td>\n",
       "      <td>1</td>\n",
       "      <td>NaN</td>\n",
       "      <td>NaN</td>\n",
       "      <td>NaN</td>\n",
       "      <td>NaN</td>\n",
       "      <td>0.0</td>\n",
       "      <td>NaN</td>\n",
       "      <td>NaN</td>\n",
       "      <td>NaN</td>\n",
       "      <td>NaN</td>\n",
       "      <td>NaN</td>\n",
       "      <td>NaN</td>\n",
       "      <td>0.0</td>\n",
       "      <td>NaN</td>\n",
       "      <td>NaN</td>\n",
       "      <td>NaN</td>\n",
       "      <td>NaN</td>\n",
       "      <td>NaN</td>\n",
       "      <td>NaN</td>\n",
       "      <td>NaN</td>\n",
       "      <td>NaN</td>\n",
       "      <td>NaN</td>\n",
       "      <td>NaN</td>\n",
       "      <td>NaN</td>\n",
       "      <td>NaN</td>\n",
       "      <td>PGIS</td>\n",
       "      <td>-9</td>\n",
       "      <td>-9</td>\n",
       "      <td>1</td>\n",
       "      <td>1</td>\n",
       "      <td>NaN</td>\n",
       "    </tr>\n",
       "    <tr>\n",
       "      <th>4</th>\n",
       "      <td>197001000003</td>\n",
       "      <td>1970</td>\n",
       "      <td>1</td>\n",
       "      <td>0</td>\n",
       "      <td>NaN</td>\n",
       "      <td>0</td>\n",
       "      <td>NaN</td>\n",
       "      <td>101</td>\n",
       "      <td>Japan</td>\n",
       "      <td>4</td>\n",
       "      <td>East Asia</td>\n",
       "      <td>Fukouka</td>\n",
       "      <td>Fukouka</td>\n",
       "      <td>33.580412</td>\n",
       "      <td>130.396361</td>\n",
       "      <td>1.0</td>\n",
       "      <td>0</td>\n",
       "      <td>NaN</td>\n",
       "      <td>NaN</td>\n",
       "      <td>1</td>\n",
       "      <td>1</td>\n",
       "      <td>1</td>\n",
       "      <td>-9.0</td>\n",
       "      <td>NaN</td>\n",
       "      <td>NaN</td>\n",
       "      <td>0.0</td>\n",
       "      <td>1</td>\n",
       "      <td>0</td>\n",
       "      <td>7</td>\n",
       "      <td>Facility/Infrastructure Attack</td>\n",
       "      <td>NaN</td>\n",
       "      <td>NaN</td>\n",
       "      <td>NaN</td>\n",
       "      <td>NaN</td>\n",
       "      <td>7</td>\n",
       "      <td>Government (Diplomatic)</td>\n",
       "      <td>46.0</td>\n",
       "      <td>Embassy/Consulate</td>\n",
       "      <td>NaN</td>\n",
       "      <td>U.S. Consulate</td>\n",
       "      <td>...</td>\n",
       "      <td>NaN</td>\n",
       "      <td>NaN</td>\n",
       "      <td>Incendiary</td>\n",
       "      <td>NaN</td>\n",
       "      <td>NaN</td>\n",
       "      <td>NaN</td>\n",
       "      <td>NaN</td>\n",
       "      <td>NaN</td>\n",
       "      <td>NaN</td>\n",
       "      <td>1</td>\n",
       "      <td>NaN</td>\n",
       "      <td>NaN</td>\n",
       "      <td>NaN</td>\n",
       "      <td>NaN</td>\n",
       "      <td>0.0</td>\n",
       "      <td>NaN</td>\n",
       "      <td>NaN</td>\n",
       "      <td>NaN</td>\n",
       "      <td>NaN</td>\n",
       "      <td>NaN</td>\n",
       "      <td>NaN</td>\n",
       "      <td>0.0</td>\n",
       "      <td>NaN</td>\n",
       "      <td>NaN</td>\n",
       "      <td>NaN</td>\n",
       "      <td>NaN</td>\n",
       "      <td>NaN</td>\n",
       "      <td>NaN</td>\n",
       "      <td>NaN</td>\n",
       "      <td>NaN</td>\n",
       "      <td>NaN</td>\n",
       "      <td>NaN</td>\n",
       "      <td>NaN</td>\n",
       "      <td>NaN</td>\n",
       "      <td>PGIS</td>\n",
       "      <td>-9</td>\n",
       "      <td>-9</td>\n",
       "      <td>1</td>\n",
       "      <td>1</td>\n",
       "      <td>NaN</td>\n",
       "    </tr>\n",
       "  </tbody>\n",
       "</table>\n",
       "</div>"
      ],
      "text/plain": [
       "        eventid  iyear  imonth  iday   ...    INT_IDEO  INT_MISC INT_ANY  related\n",
       "0  197000000001   1970       7     2   ...           0         0       0      NaN\n",
       "1  197000000002   1970       0     0   ...           1         1       1      NaN\n",
       "2  197001000001   1970       1     0   ...          -9         1       1      NaN\n",
       "3  197001000002   1970       1     0   ...          -9         1       1      NaN\n",
       "4  197001000003   1970       1     0   ...          -9         1       1      NaN\n",
       "\n",
       "[5 rows x 135 columns]"
      ]
     },
     "execution_count": 3,
     "metadata": {},
     "output_type": "execute_result"
    }
   ],
   "source": [
    "df.head()  #gives us top 5 rows of the dataframe"
   ]
  },
  {
   "cell_type": "code",
   "execution_count": 4,
   "metadata": {
    "_uuid": "63e9bd655295e8bf47b8f5991513a7616a7ccbb7"
   },
   "outputs": [
    {
     "data": {
      "text/html": [
       "<div>\n",
       "<style scoped>\n",
       "    .dataframe tbody tr th:only-of-type {\n",
       "        vertical-align: middle;\n",
       "    }\n",
       "\n",
       "    .dataframe tbody tr th {\n",
       "        vertical-align: top;\n",
       "    }\n",
       "\n",
       "    .dataframe thead th {\n",
       "        text-align: right;\n",
       "    }\n",
       "</style>\n",
       "<table border=\"1\" class=\"dataframe\">\n",
       "  <thead>\n",
       "    <tr style=\"text-align: right;\">\n",
       "      <th></th>\n",
       "      <th>eventid</th>\n",
       "      <th>iyear</th>\n",
       "      <th>imonth</th>\n",
       "      <th>iday</th>\n",
       "      <th>extended</th>\n",
       "      <th>country</th>\n",
       "      <th>region</th>\n",
       "      <th>latitude</th>\n",
       "      <th>longitude</th>\n",
       "      <th>specificity</th>\n",
       "      <th>vicinity</th>\n",
       "      <th>crit1</th>\n",
       "      <th>crit2</th>\n",
       "      <th>crit3</th>\n",
       "      <th>doubtterr</th>\n",
       "      <th>alternative</th>\n",
       "      <th>multiple</th>\n",
       "      <th>success</th>\n",
       "      <th>suicide</th>\n",
       "      <th>attacktype1</th>\n",
       "      <th>attacktype2</th>\n",
       "      <th>attacktype3</th>\n",
       "      <th>targtype1</th>\n",
       "      <th>targsubtype1</th>\n",
       "      <th>natlty1</th>\n",
       "      <th>targtype2</th>\n",
       "      <th>targsubtype2</th>\n",
       "      <th>natlty2</th>\n",
       "      <th>targtype3</th>\n",
       "      <th>targsubtype3</th>\n",
       "      <th>natlty3</th>\n",
       "      <th>guncertain1</th>\n",
       "      <th>guncertain2</th>\n",
       "      <th>guncertain3</th>\n",
       "      <th>individual</th>\n",
       "      <th>nperps</th>\n",
       "      <th>nperpcap</th>\n",
       "      <th>claimed</th>\n",
       "      <th>claimmode</th>\n",
       "      <th>claim2</th>\n",
       "      <th>claimmode2</th>\n",
       "      <th>claim3</th>\n",
       "      <th>claimmode3</th>\n",
       "      <th>compclaim</th>\n",
       "      <th>weaptype1</th>\n",
       "      <th>weapsubtype1</th>\n",
       "      <th>weaptype2</th>\n",
       "      <th>weapsubtype2</th>\n",
       "      <th>weaptype3</th>\n",
       "      <th>weapsubtype3</th>\n",
       "      <th>weaptype4</th>\n",
       "      <th>weapsubtype4</th>\n",
       "      <th>nkill</th>\n",
       "      <th>nkillus</th>\n",
       "      <th>nkillter</th>\n",
       "      <th>nwound</th>\n",
       "      <th>nwoundus</th>\n",
       "      <th>nwoundte</th>\n",
       "      <th>property</th>\n",
       "      <th>propextent</th>\n",
       "      <th>propvalue</th>\n",
       "      <th>ishostkid</th>\n",
       "      <th>nhostkid</th>\n",
       "      <th>nhostkidus</th>\n",
       "      <th>nhours</th>\n",
       "      <th>ndays</th>\n",
       "      <th>ransom</th>\n",
       "      <th>ransomamt</th>\n",
       "      <th>ransomamtus</th>\n",
       "      <th>ransompaid</th>\n",
       "      <th>ransompaidus</th>\n",
       "      <th>hostkidoutcome</th>\n",
       "      <th>nreleased</th>\n",
       "      <th>INT_LOG</th>\n",
       "      <th>INT_IDEO</th>\n",
       "      <th>INT_MISC</th>\n",
       "      <th>INT_ANY</th>\n",
       "    </tr>\n",
       "  </thead>\n",
       "  <tbody>\n",
       "    <tr>\n",
       "      <th>count</th>\n",
       "      <td>1.816910e+05</td>\n",
       "      <td>181691.000000</td>\n",
       "      <td>181691.000000</td>\n",
       "      <td>181691.000000</td>\n",
       "      <td>181691.000000</td>\n",
       "      <td>181691.000000</td>\n",
       "      <td>181691.000000</td>\n",
       "      <td>177135.000000</td>\n",
       "      <td>1.771340e+05</td>\n",
       "      <td>181685.000000</td>\n",
       "      <td>181691.000000</td>\n",
       "      <td>181691.000000</td>\n",
       "      <td>181691.000000</td>\n",
       "      <td>181691.000000</td>\n",
       "      <td>181690.000000</td>\n",
       "      <td>29011.000000</td>\n",
       "      <td>181690.000000</td>\n",
       "      <td>181691.000000</td>\n",
       "      <td>181691.000000</td>\n",
       "      <td>181691.000000</td>\n",
       "      <td>6314.000000</td>\n",
       "      <td>428.000000</td>\n",
       "      <td>181691.000000</td>\n",
       "      <td>171318.000000</td>\n",
       "      <td>180132.000000</td>\n",
       "      <td>11144.000000</td>\n",
       "      <td>10685.000000</td>\n",
       "      <td>10828.000000</td>\n",
       "      <td>1176.000000</td>\n",
       "      <td>1097.000000</td>\n",
       "      <td>1147.000000</td>\n",
       "      <td>181311.000000</td>\n",
       "      <td>1955.000000</td>\n",
       "      <td>320.000000</td>\n",
       "      <td>181691.000000</td>\n",
       "      <td>110576.000000</td>\n",
       "      <td>112202.000000</td>\n",
       "      <td>115571.000000</td>\n",
       "      <td>19083.000000</td>\n",
       "      <td>1890.000000</td>\n",
       "      <td>616.000000</td>\n",
       "      <td>318.000000</td>\n",
       "      <td>133.000000</td>\n",
       "      <td>4839.000000</td>\n",
       "      <td>181691.000000</td>\n",
       "      <td>160923.000000</td>\n",
       "      <td>13127.000000</td>\n",
       "      <td>11542.000000</td>\n",
       "      <td>1863.000000</td>\n",
       "      <td>1693.000000</td>\n",
       "      <td>73.000000</td>\n",
       "      <td>70.000000</td>\n",
       "      <td>171378.000000</td>\n",
       "      <td>117245.000000</td>\n",
       "      <td>114733.000000</td>\n",
       "      <td>165380.000000</td>\n",
       "      <td>116989.000000</td>\n",
       "      <td>112548.000000</td>\n",
       "      <td>181691.000000</td>\n",
       "      <td>64065.000000</td>\n",
       "      <td>3.898900e+04</td>\n",
       "      <td>181513.000000</td>\n",
       "      <td>13572.000000</td>\n",
       "      <td>13517.000000</td>\n",
       "      <td>4063.000000</td>\n",
       "      <td>8124.000000</td>\n",
       "      <td>77381.000000</td>\n",
       "      <td>1.350000e+03</td>\n",
       "      <td>5.630000e+02</td>\n",
       "      <td>7.740000e+02</td>\n",
       "      <td>552.000000</td>\n",
       "      <td>10991.000000</td>\n",
       "      <td>10400.000000</td>\n",
       "      <td>181691.000000</td>\n",
       "      <td>181691.000000</td>\n",
       "      <td>181691.000000</td>\n",
       "      <td>181691.000000</td>\n",
       "    </tr>\n",
       "    <tr>\n",
       "      <th>mean</th>\n",
       "      <td>2.002705e+11</td>\n",
       "      <td>2002.638997</td>\n",
       "      <td>6.467277</td>\n",
       "      <td>15.505644</td>\n",
       "      <td>0.045346</td>\n",
       "      <td>131.968501</td>\n",
       "      <td>7.160938</td>\n",
       "      <td>23.498343</td>\n",
       "      <td>-4.586957e+02</td>\n",
       "      <td>1.451452</td>\n",
       "      <td>0.068297</td>\n",
       "      <td>0.988530</td>\n",
       "      <td>0.993093</td>\n",
       "      <td>0.875668</td>\n",
       "      <td>-0.523171</td>\n",
       "      <td>1.292923</td>\n",
       "      <td>0.137773</td>\n",
       "      <td>0.889598</td>\n",
       "      <td>0.036507</td>\n",
       "      <td>3.247547</td>\n",
       "      <td>3.719512</td>\n",
       "      <td>5.245327</td>\n",
       "      <td>8.439719</td>\n",
       "      <td>46.971474</td>\n",
       "      <td>127.686441</td>\n",
       "      <td>10.247218</td>\n",
       "      <td>55.311652</td>\n",
       "      <td>131.179442</td>\n",
       "      <td>10.021259</td>\n",
       "      <td>55.548769</td>\n",
       "      <td>144.564952</td>\n",
       "      <td>0.081440</td>\n",
       "      <td>0.265473</td>\n",
       "      <td>0.193750</td>\n",
       "      <td>0.002950</td>\n",
       "      <td>-65.361154</td>\n",
       "      <td>-1.517727</td>\n",
       "      <td>0.049666</td>\n",
       "      <td>7.022848</td>\n",
       "      <td>0.247619</td>\n",
       "      <td>7.176948</td>\n",
       "      <td>0.411950</td>\n",
       "      <td>6.729323</td>\n",
       "      <td>-6.296342</td>\n",
       "      <td>6.447325</td>\n",
       "      <td>11.117162</td>\n",
       "      <td>6.812524</td>\n",
       "      <td>10.754029</td>\n",
       "      <td>6.911433</td>\n",
       "      <td>11.643237</td>\n",
       "      <td>6.246575</td>\n",
       "      <td>10.842857</td>\n",
       "      <td>2.403272</td>\n",
       "      <td>0.045981</td>\n",
       "      <td>0.508058</td>\n",
       "      <td>3.167668</td>\n",
       "      <td>0.038944</td>\n",
       "      <td>0.107163</td>\n",
       "      <td>-0.544556</td>\n",
       "      <td>3.295403</td>\n",
       "      <td>2.088119e+05</td>\n",
       "      <td>0.059054</td>\n",
       "      <td>4.533230</td>\n",
       "      <td>-0.353999</td>\n",
       "      <td>-46.793933</td>\n",
       "      <td>-32.516371</td>\n",
       "      <td>-0.145811</td>\n",
       "      <td>3.172530e+06</td>\n",
       "      <td>5.784865e+05</td>\n",
       "      <td>7.179437e+05</td>\n",
       "      <td>240.378623</td>\n",
       "      <td>4.629242</td>\n",
       "      <td>-29.018269</td>\n",
       "      <td>-4.543731</td>\n",
       "      <td>-4.464398</td>\n",
       "      <td>0.090010</td>\n",
       "      <td>-3.945952</td>\n",
       "    </tr>\n",
       "    <tr>\n",
       "      <th>std</th>\n",
       "      <td>1.325957e+09</td>\n",
       "      <td>13.259430</td>\n",
       "      <td>3.388303</td>\n",
       "      <td>8.814045</td>\n",
       "      <td>0.208063</td>\n",
       "      <td>112.414535</td>\n",
       "      <td>2.933408</td>\n",
       "      <td>18.569242</td>\n",
       "      <td>2.047790e+05</td>\n",
       "      <td>0.995430</td>\n",
       "      <td>0.284553</td>\n",
       "      <td>0.106483</td>\n",
       "      <td>0.082823</td>\n",
       "      <td>0.329961</td>\n",
       "      <td>2.455819</td>\n",
       "      <td>0.703729</td>\n",
       "      <td>0.344663</td>\n",
       "      <td>0.313391</td>\n",
       "      <td>0.187549</td>\n",
       "      <td>1.915772</td>\n",
       "      <td>2.272023</td>\n",
       "      <td>2.246642</td>\n",
       "      <td>6.653838</td>\n",
       "      <td>30.953357</td>\n",
       "      <td>89.299120</td>\n",
       "      <td>5.709076</td>\n",
       "      <td>25.640310</td>\n",
       "      <td>125.951485</td>\n",
       "      <td>5.723447</td>\n",
       "      <td>26.288955</td>\n",
       "      <td>163.299295</td>\n",
       "      <td>0.273511</td>\n",
       "      <td>0.441698</td>\n",
       "      <td>0.395854</td>\n",
       "      <td>0.054234</td>\n",
       "      <td>216.536633</td>\n",
       "      <td>12.830346</td>\n",
       "      <td>1.093195</td>\n",
       "      <td>2.476851</td>\n",
       "      <td>0.974018</td>\n",
       "      <td>2.783725</td>\n",
       "      <td>0.492962</td>\n",
       "      <td>2.908003</td>\n",
       "      <td>4.234620</td>\n",
       "      <td>2.173435</td>\n",
       "      <td>6.495612</td>\n",
       "      <td>2.277081</td>\n",
       "      <td>7.594574</td>\n",
       "      <td>2.177956</td>\n",
       "      <td>8.493166</td>\n",
       "      <td>1.507212</td>\n",
       "      <td>8.192672</td>\n",
       "      <td>11.545741</td>\n",
       "      <td>5.681854</td>\n",
       "      <td>4.199937</td>\n",
       "      <td>35.949392</td>\n",
       "      <td>3.057361</td>\n",
       "      <td>1.488881</td>\n",
       "      <td>3.122889</td>\n",
       "      <td>0.486912</td>\n",
       "      <td>1.552463e+07</td>\n",
       "      <td>0.461244</td>\n",
       "      <td>202.316386</td>\n",
       "      <td>6.835645</td>\n",
       "      <td>82.800405</td>\n",
       "      <td>121.209205</td>\n",
       "      <td>1.207861</td>\n",
       "      <td>3.021157e+07</td>\n",
       "      <td>7.077924e+06</td>\n",
       "      <td>1.014392e+07</td>\n",
       "      <td>2940.967293</td>\n",
       "      <td>2.035360</td>\n",
       "      <td>65.720119</td>\n",
       "      <td>4.543547</td>\n",
       "      <td>4.637152</td>\n",
       "      <td>0.568457</td>\n",
       "      <td>4.691325</td>\n",
       "    </tr>\n",
       "    <tr>\n",
       "      <th>min</th>\n",
       "      <td>1.970000e+11</td>\n",
       "      <td>1970.000000</td>\n",
       "      <td>0.000000</td>\n",
       "      <td>0.000000</td>\n",
       "      <td>0.000000</td>\n",
       "      <td>4.000000</td>\n",
       "      <td>1.000000</td>\n",
       "      <td>-53.154613</td>\n",
       "      <td>-8.618590e+07</td>\n",
       "      <td>1.000000</td>\n",
       "      <td>-9.000000</td>\n",
       "      <td>0.000000</td>\n",
       "      <td>0.000000</td>\n",
       "      <td>0.000000</td>\n",
       "      <td>-9.000000</td>\n",
       "      <td>1.000000</td>\n",
       "      <td>0.000000</td>\n",
       "      <td>0.000000</td>\n",
       "      <td>0.000000</td>\n",
       "      <td>1.000000</td>\n",
       "      <td>1.000000</td>\n",
       "      <td>1.000000</td>\n",
       "      <td>1.000000</td>\n",
       "      <td>1.000000</td>\n",
       "      <td>4.000000</td>\n",
       "      <td>1.000000</td>\n",
       "      <td>1.000000</td>\n",
       "      <td>4.000000</td>\n",
       "      <td>1.000000</td>\n",
       "      <td>1.000000</td>\n",
       "      <td>4.000000</td>\n",
       "      <td>0.000000</td>\n",
       "      <td>0.000000</td>\n",
       "      <td>0.000000</td>\n",
       "      <td>0.000000</td>\n",
       "      <td>-99.000000</td>\n",
       "      <td>-99.000000</td>\n",
       "      <td>-9.000000</td>\n",
       "      <td>1.000000</td>\n",
       "      <td>-9.000000</td>\n",
       "      <td>1.000000</td>\n",
       "      <td>0.000000</td>\n",
       "      <td>1.000000</td>\n",
       "      <td>-9.000000</td>\n",
       "      <td>1.000000</td>\n",
       "      <td>1.000000</td>\n",
       "      <td>1.000000</td>\n",
       "      <td>1.000000</td>\n",
       "      <td>2.000000</td>\n",
       "      <td>1.000000</td>\n",
       "      <td>5.000000</td>\n",
       "      <td>2.000000</td>\n",
       "      <td>0.000000</td>\n",
       "      <td>0.000000</td>\n",
       "      <td>0.000000</td>\n",
       "      <td>0.000000</td>\n",
       "      <td>0.000000</td>\n",
       "      <td>0.000000</td>\n",
       "      <td>-9.000000</td>\n",
       "      <td>1.000000</td>\n",
       "      <td>-9.900000e+01</td>\n",
       "      <td>-9.000000</td>\n",
       "      <td>-99.000000</td>\n",
       "      <td>-99.000000</td>\n",
       "      <td>-99.000000</td>\n",
       "      <td>-99.000000</td>\n",
       "      <td>-9.000000</td>\n",
       "      <td>-9.900000e+01</td>\n",
       "      <td>-9.900000e+01</td>\n",
       "      <td>-9.900000e+01</td>\n",
       "      <td>-99.000000</td>\n",
       "      <td>1.000000</td>\n",
       "      <td>-99.000000</td>\n",
       "      <td>-9.000000</td>\n",
       "      <td>-9.000000</td>\n",
       "      <td>-9.000000</td>\n",
       "      <td>-9.000000</td>\n",
       "    </tr>\n",
       "    <tr>\n",
       "      <th>25%</th>\n",
       "      <td>1.991021e+11</td>\n",
       "      <td>1991.000000</td>\n",
       "      <td>4.000000</td>\n",
       "      <td>8.000000</td>\n",
       "      <td>0.000000</td>\n",
       "      <td>78.000000</td>\n",
       "      <td>5.000000</td>\n",
       "      <td>11.510046</td>\n",
       "      <td>4.545640e+00</td>\n",
       "      <td>1.000000</td>\n",
       "      <td>0.000000</td>\n",
       "      <td>1.000000</td>\n",
       "      <td>1.000000</td>\n",
       "      <td>1.000000</td>\n",
       "      <td>0.000000</td>\n",
       "      <td>1.000000</td>\n",
       "      <td>0.000000</td>\n",
       "      <td>1.000000</td>\n",
       "      <td>0.000000</td>\n",
       "      <td>2.000000</td>\n",
       "      <td>2.000000</td>\n",
       "      <td>2.000000</td>\n",
       "      <td>3.000000</td>\n",
       "      <td>22.000000</td>\n",
       "      <td>83.000000</td>\n",
       "      <td>4.000000</td>\n",
       "      <td>34.000000</td>\n",
       "      <td>92.000000</td>\n",
       "      <td>3.000000</td>\n",
       "      <td>33.000000</td>\n",
       "      <td>75.000000</td>\n",
       "      <td>0.000000</td>\n",
       "      <td>0.000000</td>\n",
       "      <td>0.000000</td>\n",
       "      <td>0.000000</td>\n",
       "      <td>-99.000000</td>\n",
       "      <td>0.000000</td>\n",
       "      <td>0.000000</td>\n",
       "      <td>6.000000</td>\n",
       "      <td>0.000000</td>\n",
       "      <td>6.000000</td>\n",
       "      <td>0.000000</td>\n",
       "      <td>4.000000</td>\n",
       "      <td>-9.000000</td>\n",
       "      <td>5.000000</td>\n",
       "      <td>5.000000</td>\n",
       "      <td>5.000000</td>\n",
       "      <td>5.000000</td>\n",
       "      <td>5.000000</td>\n",
       "      <td>4.000000</td>\n",
       "      <td>5.000000</td>\n",
       "      <td>3.000000</td>\n",
       "      <td>0.000000</td>\n",
       "      <td>0.000000</td>\n",
       "      <td>0.000000</td>\n",
       "      <td>0.000000</td>\n",
       "      <td>0.000000</td>\n",
       "      <td>0.000000</td>\n",
       "      <td>0.000000</td>\n",
       "      <td>3.000000</td>\n",
       "      <td>-9.900000e+01</td>\n",
       "      <td>0.000000</td>\n",
       "      <td>1.000000</td>\n",
       "      <td>0.000000</td>\n",
       "      <td>-99.000000</td>\n",
       "      <td>-99.000000</td>\n",
       "      <td>0.000000</td>\n",
       "      <td>0.000000e+00</td>\n",
       "      <td>0.000000e+00</td>\n",
       "      <td>-9.900000e+01</td>\n",
       "      <td>0.000000</td>\n",
       "      <td>2.000000</td>\n",
       "      <td>-99.000000</td>\n",
       "      <td>-9.000000</td>\n",
       "      <td>-9.000000</td>\n",
       "      <td>0.000000</td>\n",
       "      <td>-9.000000</td>\n",
       "    </tr>\n",
       "    <tr>\n",
       "      <th>50%</th>\n",
       "      <td>2.009022e+11</td>\n",
       "      <td>2009.000000</td>\n",
       "      <td>6.000000</td>\n",
       "      <td>15.000000</td>\n",
       "      <td>0.000000</td>\n",
       "      <td>98.000000</td>\n",
       "      <td>6.000000</td>\n",
       "      <td>31.467463</td>\n",
       "      <td>4.324651e+01</td>\n",
       "      <td>1.000000</td>\n",
       "      <td>0.000000</td>\n",
       "      <td>1.000000</td>\n",
       "      <td>1.000000</td>\n",
       "      <td>1.000000</td>\n",
       "      <td>0.000000</td>\n",
       "      <td>1.000000</td>\n",
       "      <td>0.000000</td>\n",
       "      <td>1.000000</td>\n",
       "      <td>0.000000</td>\n",
       "      <td>3.000000</td>\n",
       "      <td>2.000000</td>\n",
       "      <td>7.000000</td>\n",
       "      <td>4.000000</td>\n",
       "      <td>35.000000</td>\n",
       "      <td>101.000000</td>\n",
       "      <td>14.000000</td>\n",
       "      <td>67.000000</td>\n",
       "      <td>98.000000</td>\n",
       "      <td>14.000000</td>\n",
       "      <td>67.000000</td>\n",
       "      <td>110.000000</td>\n",
       "      <td>0.000000</td>\n",
       "      <td>0.000000</td>\n",
       "      <td>0.000000</td>\n",
       "      <td>0.000000</td>\n",
       "      <td>-99.000000</td>\n",
       "      <td>0.000000</td>\n",
       "      <td>0.000000</td>\n",
       "      <td>8.000000</td>\n",
       "      <td>0.000000</td>\n",
       "      <td>7.000000</td>\n",
       "      <td>0.000000</td>\n",
       "      <td>7.000000</td>\n",
       "      <td>-9.000000</td>\n",
       "      <td>6.000000</td>\n",
       "      <td>12.000000</td>\n",
       "      <td>6.000000</td>\n",
       "      <td>7.000000</td>\n",
       "      <td>6.000000</td>\n",
       "      <td>7.000000</td>\n",
       "      <td>6.000000</td>\n",
       "      <td>9.500000</td>\n",
       "      <td>0.000000</td>\n",
       "      <td>0.000000</td>\n",
       "      <td>0.000000</td>\n",
       "      <td>0.000000</td>\n",
       "      <td>0.000000</td>\n",
       "      <td>0.000000</td>\n",
       "      <td>1.000000</td>\n",
       "      <td>3.000000</td>\n",
       "      <td>-9.900000e+01</td>\n",
       "      <td>0.000000</td>\n",
       "      <td>2.000000</td>\n",
       "      <td>0.000000</td>\n",
       "      <td>-99.000000</td>\n",
       "      <td>-99.000000</td>\n",
       "      <td>0.000000</td>\n",
       "      <td>1.500000e+04</td>\n",
       "      <td>0.000000e+00</td>\n",
       "      <td>0.000000e+00</td>\n",
       "      <td>0.000000</td>\n",
       "      <td>4.000000</td>\n",
       "      <td>0.000000</td>\n",
       "      <td>-9.000000</td>\n",
       "      <td>-9.000000</td>\n",
       "      <td>0.000000</td>\n",
       "      <td>0.000000</td>\n",
       "    </tr>\n",
       "    <tr>\n",
       "      <th>75%</th>\n",
       "      <td>2.014081e+11</td>\n",
       "      <td>2014.000000</td>\n",
       "      <td>9.000000</td>\n",
       "      <td>23.000000</td>\n",
       "      <td>0.000000</td>\n",
       "      <td>160.000000</td>\n",
       "      <td>10.000000</td>\n",
       "      <td>34.685087</td>\n",
       "      <td>6.871033e+01</td>\n",
       "      <td>1.000000</td>\n",
       "      <td>0.000000</td>\n",
       "      <td>1.000000</td>\n",
       "      <td>1.000000</td>\n",
       "      <td>1.000000</td>\n",
       "      <td>0.000000</td>\n",
       "      <td>1.000000</td>\n",
       "      <td>0.000000</td>\n",
       "      <td>1.000000</td>\n",
       "      <td>0.000000</td>\n",
       "      <td>3.000000</td>\n",
       "      <td>7.000000</td>\n",
       "      <td>7.000000</td>\n",
       "      <td>14.000000</td>\n",
       "      <td>74.000000</td>\n",
       "      <td>173.000000</td>\n",
       "      <td>14.000000</td>\n",
       "      <td>69.000000</td>\n",
       "      <td>182.000000</td>\n",
       "      <td>14.000000</td>\n",
       "      <td>73.000000</td>\n",
       "      <td>182.000000</td>\n",
       "      <td>0.000000</td>\n",
       "      <td>1.000000</td>\n",
       "      <td>0.000000</td>\n",
       "      <td>0.000000</td>\n",
       "      <td>1.000000</td>\n",
       "      <td>0.000000</td>\n",
       "      <td>0.000000</td>\n",
       "      <td>8.000000</td>\n",
       "      <td>1.000000</td>\n",
       "      <td>10.000000</td>\n",
       "      <td>1.000000</td>\n",
       "      <td>9.000000</td>\n",
       "      <td>0.000000</td>\n",
       "      <td>6.000000</td>\n",
       "      <td>16.000000</td>\n",
       "      <td>8.000000</td>\n",
       "      <td>18.000000</td>\n",
       "      <td>9.000000</td>\n",
       "      <td>20.000000</td>\n",
       "      <td>6.000000</td>\n",
       "      <td>16.000000</td>\n",
       "      <td>2.000000</td>\n",
       "      <td>0.000000</td>\n",
       "      <td>0.000000</td>\n",
       "      <td>2.000000</td>\n",
       "      <td>0.000000</td>\n",
       "      <td>0.000000</td>\n",
       "      <td>1.000000</td>\n",
       "      <td>4.000000</td>\n",
       "      <td>1.000000e+03</td>\n",
       "      <td>0.000000</td>\n",
       "      <td>4.000000</td>\n",
       "      <td>0.000000</td>\n",
       "      <td>0.000000</td>\n",
       "      <td>4.000000</td>\n",
       "      <td>0.000000</td>\n",
       "      <td>4.000000e+05</td>\n",
       "      <td>0.000000e+00</td>\n",
       "      <td>1.273412e+03</td>\n",
       "      <td>0.000000</td>\n",
       "      <td>7.000000</td>\n",
       "      <td>1.000000</td>\n",
       "      <td>0.000000</td>\n",
       "      <td>0.000000</td>\n",
       "      <td>0.000000</td>\n",
       "      <td>0.000000</td>\n",
       "    </tr>\n",
       "    <tr>\n",
       "      <th>max</th>\n",
       "      <td>2.017123e+11</td>\n",
       "      <td>2017.000000</td>\n",
       "      <td>12.000000</td>\n",
       "      <td>31.000000</td>\n",
       "      <td>1.000000</td>\n",
       "      <td>1004.000000</td>\n",
       "      <td>12.000000</td>\n",
       "      <td>74.633553</td>\n",
       "      <td>1.793667e+02</td>\n",
       "      <td>5.000000</td>\n",
       "      <td>1.000000</td>\n",
       "      <td>1.000000</td>\n",
       "      <td>1.000000</td>\n",
       "      <td>1.000000</td>\n",
       "      <td>1.000000</td>\n",
       "      <td>5.000000</td>\n",
       "      <td>1.000000</td>\n",
       "      <td>1.000000</td>\n",
       "      <td>1.000000</td>\n",
       "      <td>9.000000</td>\n",
       "      <td>9.000000</td>\n",
       "      <td>8.000000</td>\n",
       "      <td>22.000000</td>\n",
       "      <td>113.000000</td>\n",
       "      <td>1004.000000</td>\n",
       "      <td>22.000000</td>\n",
       "      <td>113.000000</td>\n",
       "      <td>1004.000000</td>\n",
       "      <td>22.000000</td>\n",
       "      <td>113.000000</td>\n",
       "      <td>1004.000000</td>\n",
       "      <td>1.000000</td>\n",
       "      <td>1.000000</td>\n",
       "      <td>1.000000</td>\n",
       "      <td>1.000000</td>\n",
       "      <td>25000.000000</td>\n",
       "      <td>406.000000</td>\n",
       "      <td>1.000000</td>\n",
       "      <td>10.000000</td>\n",
       "      <td>1.000000</td>\n",
       "      <td>10.000000</td>\n",
       "      <td>1.000000</td>\n",
       "      <td>10.000000</td>\n",
       "      <td>1.000000</td>\n",
       "      <td>13.000000</td>\n",
       "      <td>31.000000</td>\n",
       "      <td>13.000000</td>\n",
       "      <td>31.000000</td>\n",
       "      <td>13.000000</td>\n",
       "      <td>28.000000</td>\n",
       "      <td>12.000000</td>\n",
       "      <td>28.000000</td>\n",
       "      <td>1570.000000</td>\n",
       "      <td>1360.000000</td>\n",
       "      <td>500.000000</td>\n",
       "      <td>8191.000000</td>\n",
       "      <td>751.000000</td>\n",
       "      <td>200.000000</td>\n",
       "      <td>1.000000</td>\n",
       "      <td>4.000000</td>\n",
       "      <td>2.700000e+09</td>\n",
       "      <td>1.000000</td>\n",
       "      <td>17000.000000</td>\n",
       "      <td>86.000000</td>\n",
       "      <td>999.000000</td>\n",
       "      <td>2454.000000</td>\n",
       "      <td>1.000000</td>\n",
       "      <td>1.000000e+09</td>\n",
       "      <td>1.320000e+08</td>\n",
       "      <td>2.750000e+08</td>\n",
       "      <td>48000.000000</td>\n",
       "      <td>7.000000</td>\n",
       "      <td>2769.000000</td>\n",
       "      <td>1.000000</td>\n",
       "      <td>1.000000</td>\n",
       "      <td>1.000000</td>\n",
       "      <td>1.000000</td>\n",
       "    </tr>\n",
       "  </tbody>\n",
       "</table>\n",
       "</div>"
      ],
      "text/plain": [
       "            eventid          iyear      ...             INT_MISC        INT_ANY\n",
       "count  1.816910e+05  181691.000000      ...        181691.000000  181691.000000\n",
       "mean   2.002705e+11    2002.638997      ...             0.090010      -3.945952\n",
       "std    1.325957e+09      13.259430      ...             0.568457       4.691325\n",
       "min    1.970000e+11    1970.000000      ...            -9.000000      -9.000000\n",
       "25%    1.991021e+11    1991.000000      ...             0.000000      -9.000000\n",
       "50%    2.009022e+11    2009.000000      ...             0.000000       0.000000\n",
       "75%    2.014081e+11    2014.000000      ...             0.000000       0.000000\n",
       "max    2.017123e+11    2017.000000      ...             1.000000       1.000000\n",
       "\n",
       "[8 rows x 77 columns]"
      ]
     },
     "execution_count": 4,
     "metadata": {},
     "output_type": "execute_result"
    }
   ],
   "source": [
    "df.describe()"
   ]
  },
  {
   "cell_type": "code",
   "execution_count": 5,
   "metadata": {
    "_kg_hide-input": true,
    "_kg_hide-output": true,
    "_uuid": "8327a610f8a0f26e28d2f42545453451a11203cb"
   },
   "outputs": [
    {
     "data": {
      "text/plain": [
       "eventid               181691\n",
       "iyear                 181691\n",
       "imonth                181691\n",
       "iday                  181691\n",
       "approxdate            181691\n",
       "extended              181691\n",
       "resolution            181691\n",
       "country               181691\n",
       "country_txt           181691\n",
       "region                181691\n",
       "region_txt            181691\n",
       "provstate             181691\n",
       "city                  181691\n",
       "latitude              181691\n",
       "longitude             181691\n",
       "specificity           181691\n",
       "vicinity              181691\n",
       "location              181691\n",
       "summary               181691\n",
       "crit1                 181691\n",
       "crit2                 181691\n",
       "crit3                 181691\n",
       "doubtterr             181691\n",
       "alternative           181691\n",
       "alternative_txt       181691\n",
       "multiple              181691\n",
       "success               181691\n",
       "suicide               181691\n",
       "attacktype1           181691\n",
       "attacktype1_txt       181691\n",
       "                       ...  \n",
       "propextent            181691\n",
       "propextent_txt        181691\n",
       "propvalue             181691\n",
       "propcomment           181691\n",
       "ishostkid             181691\n",
       "nhostkid              181691\n",
       "nhostkidus            181691\n",
       "nhours                181691\n",
       "ndays                 181691\n",
       "divert                181691\n",
       "kidhijcountry         181691\n",
       "ransom                181691\n",
       "ransomamt             181691\n",
       "ransomamtus           181691\n",
       "ransompaid            181691\n",
       "ransompaidus          181691\n",
       "ransomnote            181691\n",
       "hostkidoutcome        181691\n",
       "hostkidoutcome_txt    181691\n",
       "nreleased             181691\n",
       "addnotes              181691\n",
       "scite1                181691\n",
       "scite2                181691\n",
       "scite3                181691\n",
       "dbsource              181691\n",
       "INT_LOG               181691\n",
       "INT_IDEO              181691\n",
       "INT_MISC              181691\n",
       "INT_ANY               181691\n",
       "related               181691\n",
       "Length: 135, dtype: int64"
      ]
     },
     "execution_count": 5,
     "metadata": {},
     "output_type": "execute_result"
    }
   ],
   "source": [
    "df.isnull().count()"
   ]
  },
  {
   "cell_type": "markdown",
   "metadata": {
    "_uuid": "4f20197dce8d3aca1d6e74683dd27a2ee9d1d33e"
   },
   "source": [
    "## Finding missing values"
   ]
  },
  {
   "cell_type": "code",
   "execution_count": 6,
   "metadata": {
    "_kg_hide-output": true,
    "_uuid": "8bf5cd56833ecee89d853fa7d92a791f9be6ba79"
   },
   "outputs": [
    {
     "data": {
      "text/plain": [
       "eventid                    0\n",
       "iyear                      0\n",
       "imonth                     0\n",
       "iday                       0\n",
       "approxdate            172452\n",
       "extended                   0\n",
       "resolution            179471\n",
       "country                    0\n",
       "country_txt                0\n",
       "region                     0\n",
       "region_txt                 0\n",
       "provstate                421\n",
       "city                     434\n",
       "latitude                4556\n",
       "longitude               4557\n",
       "specificity                6\n",
       "vicinity                   0\n",
       "location              126196\n",
       "summary                66129\n",
       "crit1                      0\n",
       "crit2                      0\n",
       "crit3                      0\n",
       "doubtterr                  1\n",
       "alternative           152680\n",
       "alternative_txt       152680\n",
       "multiple                   1\n",
       "success                    0\n",
       "suicide                    0\n",
       "attacktype1                0\n",
       "attacktype1_txt            0\n",
       "                       ...  \n",
       "propextent            117626\n",
       "propextent_txt        117626\n",
       "propvalue             142702\n",
       "propcomment           123732\n",
       "ishostkid                178\n",
       "nhostkid              168119\n",
       "nhostkidus            168174\n",
       "nhours                177628\n",
       "ndays                 173567\n",
       "divert                181367\n",
       "kidhijcountry         178386\n",
       "ransom                104310\n",
       "ransomamt             180341\n",
       "ransomamtus           181128\n",
       "ransompaid            180917\n",
       "ransompaidus          181139\n",
       "ransomnote            181177\n",
       "hostkidoutcome        170700\n",
       "hostkidoutcome_txt    170700\n",
       "nreleased             171291\n",
       "addnotes              153402\n",
       "scite1                 66191\n",
       "scite2                104758\n",
       "scite3                138175\n",
       "dbsource                   0\n",
       "INT_LOG                    0\n",
       "INT_IDEO                   0\n",
       "INT_MISC                   0\n",
       "INT_ANY                    0\n",
       "related               156653\n",
       "Length: 135, dtype: int64"
      ]
     },
     "execution_count": 6,
     "metadata": {},
     "output_type": "execute_result"
    }
   ],
   "source": [
    "df.isnull().sum() #gives us total no. of missing values for all the columns"
   ]
  },
  {
   "cell_type": "markdown",
   "metadata": {
    "_uuid": "d2bce20afefc8352c36ec7ab1411f173b4736a99"
   },
   "source": [
    "**Let us create dataframe to store the information about missing values for future reference**"
   ]
  },
  {
   "cell_type": "code",
   "execution_count": 7,
   "metadata": {
    "_uuid": "9a02605c53e4e0c319ce3e503f7d0b04368a22d3"
   },
   "outputs": [
    {
     "data": {
      "text/html": [
       "<div>\n",
       "<style scoped>\n",
       "    .dataframe tbody tr th:only-of-type {\n",
       "        vertical-align: middle;\n",
       "    }\n",
       "\n",
       "    .dataframe tbody tr th {\n",
       "        vertical-align: top;\n",
       "    }\n",
       "\n",
       "    .dataframe thead th {\n",
       "        text-align: right;\n",
       "    }\n",
       "</style>\n",
       "<table border=\"1\" class=\"dataframe\">\n",
       "  <thead>\n",
       "    <tr style=\"text-align: right;\">\n",
       "      <th></th>\n",
       "      <th>Total</th>\n",
       "      <th>Percentage</th>\n",
       "    </tr>\n",
       "  </thead>\n",
       "  <tbody>\n",
       "    <tr>\n",
       "      <th>gsubname3</th>\n",
       "      <td>181671</td>\n",
       "      <td>0.999890</td>\n",
       "    </tr>\n",
       "    <tr>\n",
       "      <th>weapsubtype4_txt</th>\n",
       "      <td>181621</td>\n",
       "      <td>0.999615</td>\n",
       "    </tr>\n",
       "    <tr>\n",
       "      <th>weapsubtype4</th>\n",
       "      <td>181621</td>\n",
       "      <td>0.999615</td>\n",
       "    </tr>\n",
       "    <tr>\n",
       "      <th>weaptype4</th>\n",
       "      <td>181618</td>\n",
       "      <td>0.999598</td>\n",
       "    </tr>\n",
       "    <tr>\n",
       "      <th>weaptype4_txt</th>\n",
       "      <td>181618</td>\n",
       "      <td>0.999598</td>\n",
       "    </tr>\n",
       "  </tbody>\n",
       "</table>\n",
       "</div>"
      ],
      "text/plain": [
       "                   Total  Percentage\n",
       "gsubname3         181671    0.999890\n",
       "weapsubtype4_txt  181621    0.999615\n",
       "weapsubtype4      181621    0.999615\n",
       "weaptype4         181618    0.999598\n",
       "weaptype4_txt     181618    0.999598"
      ]
     },
     "execution_count": 7,
     "metadata": {},
     "output_type": "execute_result"
    }
   ],
   "source": [
    "totalms = df.isnull().sum().sort_values(ascending=False)\n",
    "percentagems = (df.isnull().sum()/ df.isnull().count()).sort_values(ascending=False)\n",
    "missingdata = pd.concat([totalms, percentagems], axis=1, keys=['Total', 'Percentage'])\n",
    "missingdata.head()"
   ]
  },
  {
   "cell_type": "code",
   "execution_count": 8,
   "metadata": {
    "_uuid": "940ad6114d1151e0566b1d9e52d2d329b95aaee5"
   },
   "outputs": [
    {
     "name": "stdout",
     "output_type": "stream",
     "text": [
      "(181691, 135)\n"
     ]
    }
   ],
   "source": [
    "print(df.shape)"
   ]
  },
  {
   "cell_type": "code",
   "execution_count": 9,
   "metadata": {
    "_uuid": "f9c2d553809aea55e47f571112bf6d65ef57aded"
   },
   "outputs": [
    {
     "name": "stdout",
     "output_type": "stream",
     "text": [
      "(135, 2)\n"
     ]
    }
   ],
   "source": [
    "print(missingdata.shape)"
   ]
  },
  {
   "cell_type": "code",
   "execution_count": 10,
   "metadata": {
    "_kg_hide-input": true,
    "_kg_hide-output": true,
    "_uuid": "d707e5b03088ee7a8668490f342622cb213d88c5"
   },
   "outputs": [
    {
     "name": "stdout",
     "output_type": "stream",
     "text": [
      "                   Total  Percentage\n",
      "gsubname3         181671    0.999890\n",
      "weapsubtype4_txt  181621    0.999615\n",
      "weapsubtype4      181621    0.999615\n",
      "weaptype4         181618    0.999598\n",
      "weaptype4_txt     181618    0.999598\n",
      "claimmode3        181558    0.999268\n",
      "claimmode3_txt    181558    0.999268\n",
      "gsubname2         181531    0.999119\n",
      "claim3            181373    0.998250\n",
      "guncertain3       181371    0.998239\n",
      "gname3            181367    0.998217\n",
      "divert            181367    0.998217\n",
      "attacktype3       181263    0.997644\n",
      "attacktype3_txt   181263    0.997644\n",
      "ransomnote        181177    0.997171\n",
      "ransompaidus      181139    0.996962\n",
      "ransomamtus       181128    0.996901\n",
      "claimmode2        181075    0.996610\n",
      "claimmode2_txt    181075    0.996610\n",
      "ransompaid        180917    0.995740\n",
      "corp3             180665    0.994353\n",
      "targsubtype3      180594    0.993962\n",
      "targsubtype3_txt  180594    0.993962\n",
      "natlty3           180544    0.993687\n",
      "natlty3_txt       180544    0.993687\n",
      "target3           180516    0.993533\n",
      "targtype3_txt     180515    0.993527\n",
      "targtype3         180515    0.993527\n",
      "ransomamt         180341    0.992570\n",
      "weapsubtype3      179998    0.990682\n",
      "...                  ...         ...\n",
      "doubtterr              1    0.000006\n",
      "country_txt            0    0.000000\n",
      "region                 0    0.000000\n",
      "iday                   0    0.000000\n",
      "INT_MISC               0    0.000000\n",
      "INT_IDEO               0    0.000000\n",
      "imonth                 0    0.000000\n",
      "extended               0    0.000000\n",
      "iyear                  0    0.000000\n",
      "country                0    0.000000\n",
      "vicinity               0    0.000000\n",
      "region_txt             0    0.000000\n",
      "targtype1              0    0.000000\n",
      "crit1                  0    0.000000\n",
      "individual             0    0.000000\n",
      "INT_ANY                0    0.000000\n",
      "weaptype1              0    0.000000\n",
      "weaptype1_txt          0    0.000000\n",
      "gname                  0    0.000000\n",
      "property               0    0.000000\n",
      "targtype1_txt          0    0.000000\n",
      "dbsource               0    0.000000\n",
      "crit2                  0    0.000000\n",
      "INT_LOG                0    0.000000\n",
      "attacktype1_txt        0    0.000000\n",
      "attacktype1            0    0.000000\n",
      "suicide                0    0.000000\n",
      "success                0    0.000000\n",
      "crit3                  0    0.000000\n",
      "eventid                0    0.000000\n",
      "\n",
      "[135 rows x 2 columns]\n"
     ]
    }
   ],
   "source": [
    "print(missingdata)"
   ]
  },
  {
   "cell_type": "markdown",
   "metadata": {
    "_uuid": "80bc26d5de5e1c3219b70274731674ebc6697ee7"
   },
   "source": [
    "**From this we can drop the columns with high percentage of missing values. But as off now I am not dropping those columns from df(main dataframe)**"
   ]
  },
  {
   "cell_type": "markdown",
   "metadata": {
    "_uuid": "1f4ca23e9b72ad60de04413237e5fb19f2f75f61"
   },
   "source": [
    "## Univariate analysis/visualization"
   ]
  },
  {
   "cell_type": "markdown",
   "metadata": {
    "_uuid": "696cf4eb1092252adcbfd2b0acc0eb4cc2930ae1"
   },
   "source": [
    "**Let start from the left most column.** "
   ]
  },
  {
   "cell_type": "code",
   "execution_count": 11,
   "metadata": {
    "_uuid": "ad47bbac2353bd5870dab2ed2acc61e00837bd1a"
   },
   "outputs": [
    {
     "data": {
      "image/png": "[encoded data removed]",
      "text/plain": [
       "<Figure size 1440x720 with 1 Axes>"
      ]
     },
     "metadata": {},
     "output_type": "display_data"
    }
   ],
   "source": [
    "fig, ax = plt.subplots(figsize=(20,10))\n",
    "ax = sns.countplot(x='iyear', palette='GnBu_d', data=df, orient=\"v\")\n",
    "_ = plt.xlabel('Years')\n",
    "_ = plt.setp(ax.get_xticklabels(), rotation = 90)"
   ]
  },
  {
   "cell_type": "markdown",
   "metadata": {
    "_uuid": "3d3dd283a3b9647b5f219b9411652579cef4f053"
   },
   "source": [
    "Here we can see year wise terrorist attacks starting from 1970 till 2017. Number of attacks were steadily increasing till 1992 and there was sudden drop from 1994 to 2004. Year 2014 witnessed the highest no. of attacks. "
   ]
  },
  {
   "cell_type": "code",
   "execution_count": 12,
   "metadata": {
    "_kg_hide-input": true,
    "_uuid": "eed2ba9946c70b2c3c9e58d242f5c14566f76d04"
   },
   "outputs": [
    {
     "data": {
      "text/plain": [
       "Iraq                              24636\n",
       "Pakistan                          14368\n",
       "Afghanistan                       12731\n",
       "India                             11960\n",
       "Colombia                           8306\n",
       "Philippines                        6908\n",
       "Peru                               6096\n",
       "El Salvador                        5320\n",
       "United Kingdom                     5235\n",
       "Turkey                             4292\n",
       "Somalia                            4142\n",
       "Nigeria                            3907\n",
       "Thailand                           3849\n",
       "Yemen                              3347\n",
       "Spain                              3249\n",
       "Sri Lanka                          3022\n",
       "United States                      2836\n",
       "Algeria                            2743\n",
       "France                             2693\n",
       "Egypt                              2479\n",
       "Lebanon                            2478\n",
       "Chile                              2365\n",
       "Libya                              2249\n",
       "West Bank and Gaza Strip           2227\n",
       "Syria                              2201\n",
       "Russia                             2194\n",
       "Israel                             2183\n",
       "Guatemala                          2050\n",
       "South Africa                       2016\n",
       "Nicaragua                          1970\n",
       "                                  ...  \n",
       "Comoros                               5\n",
       "Montenegro                            5\n",
       "Western Sahara                        5\n",
       "Grenada                               5\n",
       "Bahamas                               5\n",
       "Malawi                                5\n",
       "Solomon Islands                       4\n",
       "People's Republic of the Congo        4\n",
       "Iceland                               4\n",
       "Barbados                              3\n",
       "Dominica                              3\n",
       "Gambia                                3\n",
       "French Polynesia                      3\n",
       "South Yemen                           2\n",
       "Seychelles                            2\n",
       "Equatorial Guinea                     2\n",
       "St. Kitts and Nevis                   2\n",
       "Vanuatu                               2\n",
       "Turkmenistan                          2\n",
       "Mauritius                             2\n",
       "International                         1\n",
       "St. Lucia                             1\n",
       "New Hebrides                          1\n",
       "Andorra                               1\n",
       "North Korea                           1\n",
       "Antigua and Barbuda                   1\n",
       "Vatican City                          1\n",
       "Wallis and Futuna                     1\n",
       "South Vietnam                         1\n",
       "Falkland Islands                      1\n",
       "Name: country_txt, Length: 205, dtype: int64"
      ]
     },
     "execution_count": 12,
     "metadata": {},
     "output_type": "execute_result"
    }
   ],
   "source": [
    "df['country_txt'].value_counts()"
   ]
  },
  {
   "cell_type": "markdown",
   "metadata": {
    "_uuid": "ed585e33c88b6dd53dd79c4eb7ca6ba1001dfc09"
   },
   "source": [
    "**Let us see how each country suffered**"
   ]
  },
  {
   "cell_type": "code",
   "execution_count": 13,
   "metadata": {
    "_uuid": "a9534e626818dfcbb799a3c785e0d59cad9d22a9"
   },
   "outputs": [
    {
     "data": {
      "image/png": "[encoded data removed]",
      "text/plain": [
       "<Figure size 1080x720 with 1 Axes>"
      ]
     },
     "metadata": {},
     "output_type": "display_data"
    }
   ],
   "source": [
    "fig, ax = plt.subplots(figsize=(15,10))\n",
    "ax = sns.countplot(x='country_txt', data=df, order=df['country_txt'].value_counts()[:15].index, palette='inferno')\n",
    "_ = plt.xlabel('Countries')\n",
    "_ = plt.setp(ax.get_xticklabels(), rotation = 90)"
   ]
  },
  {
   "cell_type": "markdown",
   "metadata": {
    "_uuid": "1ccdc85ad2862cb2446f04bd65218ed0599e8ae3"
   },
   "source": [
    "**Displaying to 15 countries most affected by terror attacks. Iraq suffered the most among all the countries followed by Pakistan, Afganistan & India. From this we can conclude that south, east Asia is high affected region.** "
   ]
  },
  {
   "cell_type": "markdown",
   "metadata": {
    "_uuid": "0ee48259337b644204acdaa510386695d0e69f82"
   },
   "source": [
    "**The dataset is divided into the following regions**"
   ]
  },
  {
   "cell_type": "code",
   "execution_count": 14,
   "metadata": {
    "_kg_hide-input": true,
    "_uuid": "460de70a406265478b19243227e9e0ecdc16b79f"
   },
   "outputs": [
    {
     "data": {
      "text/plain": [
       "Middle East & North Africa     50474\n",
       "South Asia                     44974\n",
       "South America                  18978\n",
       "Sub-Saharan Africa             17550\n",
       "Western Europe                 16639\n",
       "Southeast Asia                 12485\n",
       "Central America & Caribbean    10344\n",
       "Eastern Europe                  5144\n",
       "North America                   3456\n",
       "East Asia                        802\n",
       "Central Asia                     563\n",
       "Australasia & Oceania            282\n",
       "Name: region_txt, dtype: int64"
      ]
     },
     "execution_count": 14,
     "metadata": {},
     "output_type": "execute_result"
    }
   ],
   "source": [
    "df['region_txt'].value_counts()"
   ]
  },
  {
   "cell_type": "code",
   "execution_count": 15,
   "metadata": {
    "_uuid": "c6cc514896c9a8f94b6a77cfbd401f94e5a81bca"
   },
   "outputs": [
    {
     "data": {
      "text/plain": [
       "0"
      ]
     },
     "execution_count": 15,
     "metadata": {},
     "output_type": "execute_result"
    }
   ],
   "source": [
    "df['region_txt'].isna().sum()"
   ]
  },
  {
   "cell_type": "code",
   "execution_count": 16,
   "metadata": {
    "_uuid": "4840e809345f4f490c17526ff3e25c48eb2a0163"
   },
   "outputs": [
    {
     "data": {
      "image/png": "[encoded data removed]",
      "text/plain": [
       "<Figure size 1080x720 with 1 Axes>"
      ]
     },
     "metadata": {},
     "output_type": "display_data"
    }
   ],
   "source": [
    "fig, ax = plt.subplots(figsize=(15,10))\n",
    "ax = sns.countplot(x='region_txt', data=df, palette='plasma', order=df['region_txt'].value_counts().index)\n",
    "_ = plt.xlabel('Region')\n",
    "_ = plt.setp(ax.get_xticklabels(), rotation = 60)"
   ]
  },
  {
   "cell_type": "markdown",
   "metadata": {
    "_uuid": "9484058d57e0971b9b10d3e80e4bdd3d90ce2648"
   },
   "source": [
    "**Middle east and north africa together suffered as nearly as south asia**"
   ]
  },
  {
   "cell_type": "code",
   "execution_count": 17,
   "metadata": {
    "_uuid": "acb75344eb5dce76bf2db700ef5c5f31d9164404"
   },
   "outputs": [
    {
     "data": {
      "image/png": "[encoded data removed]",
      "text/plain": [
       "<Figure size 720x432 with 1 Axes>"
      ]
     },
     "metadata": {},
     "output_type": "display_data"
    }
   ],
   "source": [
    "terror_region = pd.crosstab(df['iyear'], df['region_txt'])\n",
    "terror_region.plot(color=sns.color_palette('viridis', 12))\n",
    "fig = plt.gcf()\n",
    "fig.set_size_inches(10,6)\n",
    "#use plotly"
   ]
  },
  {
   "cell_type": "markdown",
   "metadata": {
    "_uuid": "fa538666b3c8d0d8bbf98228508e50410a3f8dbd"
   },
   "source": [
    "Here we can see the trend in attacks over the years over different regions. We can see the spike in dark green line which represents middle east and north africa region, suffered most during the last decade followed by south asia. "
   ]
  },
  {
   "cell_type": "code",
   "execution_count": 18,
   "metadata": {
    "_kg_hide-input": true,
    "_uuid": "87f2e941f57d6266d6adf87ca37ea55091c44035"
   },
   "outputs": [
    {
     "name": "stdout",
     "output_type": "stream",
     "text": [
      "region_txt  Australasia & Oceania       ...        Western Europe\n",
      "iyear                                   ...                      \n",
      "1970                            1       ...                    50\n",
      "1971                            1       ...                   125\n",
      "1972                            8       ...                   376\n",
      "1973                            1       ...                   290\n",
      "1974                            1       ...                   317\n",
      "\n",
      "[5 rows x 12 columns]\n"
     ]
    }
   ],
   "source": [
    "print(terror_region.head())"
   ]
  },
  {
   "cell_type": "markdown",
   "metadata": {
    "_uuid": "437906437d79ec967a08dcf41f74ad3998b507f6"
   },
   "source": [
    "**Successful attacks**"
   ]
  },
  {
   "cell_type": "code",
   "execution_count": 19,
   "metadata": {
    "_uuid": "4f5a7725f2d552b5e54d4f9ddaade05ad20db02e"
   },
   "outputs": [
    {
     "data": {
      "text/plain": [
       "<matplotlib.axes._subplots.AxesSubplot at 0x7f190353b9e8>"
      ]
     },
     "execution_count": 19,
     "metadata": {},
     "output_type": "execute_result"
    },
    {
     "data": {
      "image/png": "[encoded data removed]",
      "text/plain": [
       "<Figure size 432x288 with 1 Axes>"
      ]
     },
     "metadata": {},
     "output_type": "display_data"
    }
   ],
   "source": [
    "sns.countplot(x='success', data=df, palette='hls')"
   ]
  },
  {
   "cell_type": "markdown",
   "metadata": {
    "_uuid": "c8196cb9f3a7041c05b644c61ef8089bbc105413"
   },
   "source": [
    "Here 1 represents succesful attack and 0 represents failes attempt. From the above figure we can see that most of the attacks are successful."
   ]
  },
  {
   "cell_type": "code",
   "execution_count": 20,
   "metadata": {
    "_uuid": "84c3785800fd89ef2257f6d68df39c24d5d08d9f"
   },
   "outputs": [
    {
     "data": {
      "text/plain": [
       "<matplotlib.axes._subplots.AxesSubplot at 0x7f1902af8ac8>"
      ]
     },
     "execution_count": 20,
     "metadata": {},
     "output_type": "execute_result"
    },
    {
     "data": {
      "image/png": "[encoded data removed]",
      "text/plain": [
       "<Figure size 432x288 with 1 Axes>"
      ]
     },
     "metadata": {},
     "output_type": "display_data"
    }
   ],
   "source": [
    "sns.countplot(x='suicide', data=df, palette='twilight')"
   ]
  },
  {
   "cell_type": "code",
   "execution_count": 21,
   "metadata": {
    "_uuid": "83a3a4d3b55b42e3f56c20a958e0c0eb0bfc67e5"
   },
   "outputs": [
    {
     "data": {
      "text/plain": [
       "0"
      ]
     },
     "execution_count": 21,
     "metadata": {},
     "output_type": "execute_result"
    }
   ],
   "source": [
    "df['attacktype1_txt'].isnull().sum()"
   ]
  },
  {
   "cell_type": "code",
   "execution_count": 22,
   "metadata": {
    "_uuid": "4341ac16287961857f8122cc3c92e049dce14ad0"
   },
   "outputs": [
    {
     "data": {
      "image/png": "[encoded data removed]",
      "text/plain": [
       "<Figure size 1080x720 with 1 Axes>"
      ]
     },
     "metadata": {},
     "output_type": "display_data"
    }
   ],
   "source": [
    "fig, ax = plt.subplots(figsize=(15,10))\n",
    "ax = sns.countplot(x='attacktype1_txt', data=df, palette='plasma_r', order=df['attacktype1_txt'].value_counts().index)\n",
    "_ = plt.xlabel('AttackType')\n",
    "_ = plt.setp(ax.get_xticklabels(), rotation = 75)"
   ]
  },
  {
   "cell_type": "markdown",
   "metadata": {
    "_uuid": "c221d9cb5ccc7882bca20b71e19de662c24883e6"
   },
   "source": [
    "So, most of the attacks are bombing/explosion as it has highest range among all options, with equally high damaging. "
   ]
  },
  {
   "cell_type": "code",
   "execution_count": 23,
   "metadata": {
    "_uuid": "65929e49165a424c7ba942f4cae22eaace15131e"
   },
   "outputs": [
    {
     "data": {
      "image/png": "[encoded data removed]",
      "text/plain": [
       "<Figure size 720x432 with 1 Axes>"
      ]
     },
     "metadata": {},
     "output_type": "display_data"
    }
   ],
   "source": [
    "terror_attack = pd.crosstab(df['iyear'], df['attacktype1_txt'])\n",
    "terror_attack.plot(color = sns.color_palette('Set3', 9))\n",
    "fig = plt.gcf()\n",
    "fig.set_size_inches(10, 6)"
   ]
  },
  {
   "cell_type": "markdown",
   "metadata": {
    "_uuid": "d381c67d7c1f5f9ce249ee5a9e4524928e56983a"
   },
   "source": [
    "   We can see from the above figure that bombing/explosion is the go to method for terror attacks over the years followed by armed assualt. "
   ]
  },
  {
   "cell_type": "code",
   "execution_count": 24,
   "metadata": {
    "_kg_hide-input": true,
    "_uuid": "cec0f0c96eb1169dbdb7227ad7ce07364d7760e4"
   },
   "outputs": [
    {
     "data": {
      "text/plain": [
       "Armed Assault                          3434\n",
       "Facility/Infrastructure Attack         1653\n",
       "Bombing/Explosion                       506\n",
       "Hostage Taking (Kidnapping)             479\n",
       "Assassination                           162\n",
       "Hostage Taking (Barricade Incident)      37\n",
       "Unarmed Assault                          30\n",
       "Hijacking                                10\n",
       "Unknown                                   3\n",
       "Name: attacktype2_txt, dtype: int64"
      ]
     },
     "execution_count": 24,
     "metadata": {},
     "output_type": "execute_result"
    }
   ],
   "source": [
    "df['attacktype2_txt'].value_counts()"
   ]
  },
  {
   "cell_type": "code",
   "execution_count": 25,
   "metadata": {
    "_kg_hide-input": true,
    "_uuid": "999456618606d76fa91eea49a922d4867a3b560a"
   },
   "outputs": [
    {
     "data": {
      "text/plain": [
       "Facility/Infrastructure Attack         229\n",
       "Armed Assault                          119\n",
       "Hostage Taking (Kidnapping)             53\n",
       "Bombing/Explosion                       16\n",
       "Hijacking                                4\n",
       "Assassination                            4\n",
       "Hostage Taking (Barricade Incident)      2\n",
       "Unarmed Assault                          1\n",
       "Name: attacktype3_txt, dtype: int64"
      ]
     },
     "execution_count": 25,
     "metadata": {},
     "output_type": "execute_result"
    }
   ],
   "source": [
    "df['attacktype3_txt'].value_counts()"
   ]
  },
  {
   "cell_type": "code",
   "execution_count": 26,
   "metadata": {
    "_kg_hide-input": true,
    "_uuid": "3b2d2c54a7c925a422dcee69ea2b5fe7ae720210"
   },
   "outputs": [
    {
     "data": {
      "text/plain": [
       "0"
      ]
     },
     "execution_count": 26,
     "metadata": {},
     "output_type": "execute_result"
    }
   ],
   "source": [
    "df['attacktype1_txt'].isna().sum()"
   ]
  },
  {
   "cell_type": "code",
   "execution_count": 27,
   "metadata": {
    "_uuid": "3251a09f8166d6b4d4d428c3f6d1ddc3c340462d"
   },
   "outputs": [
    {
     "name": "stdout",
     "output_type": "stream",
     "text": [
      "96.52486914596761\n"
     ]
    }
   ],
   "source": [
    "percentage_missing = (df['attacktype2_txt'].isna().sum() / df['attacktype2_txt'].isna().count()) * 100.00\n",
    "print(percentage_missing)"
   ]
  },
  {
   "cell_type": "code",
   "execution_count": 28,
   "metadata": {
    "_uuid": "bdcb5198ad64eef212eb129825fadd7aeb248378"
   },
   "outputs": [
    {
     "name": "stdout",
     "output_type": "stream",
     "text": [
      "99.7644352224381\n"
     ]
    }
   ],
   "source": [
    "percentage_missing2 = (df['attacktype3_txt'].isna().sum() / df['attacktype3_txt'].isna().count()) * 100.00\n",
    "print(percentage_missing2)"
   ]
  },
  {
   "cell_type": "markdown",
   "metadata": {
    "_uuid": "2c201116cfd06262dd89ff59d67810a241e339ef"
   },
   "source": [
    "    attacktype2 & attacktype3 is not defined properly, at the same time both of these attributes hold high percentage of missing values."
   ]
  },
  {
   "cell_type": "code",
   "execution_count": 29,
   "metadata": {
    "_uuid": "ef44e4c9da065e62bf09841087bab0a3e41569d9"
   },
   "outputs": [
    {
     "data": {
      "text/plain": [
       "Private Citizens & Property       43511\n",
       "Military                          27984\n",
       "Police                            24506\n",
       "Government (General)              21283\n",
       "Business                          20669\n",
       "Transportation                     6799\n",
       "Utilities                          6023\n",
       "Unknown                            5898\n",
       "Religious Figures/Institutions     4440\n",
       "Educational Institution            4322\n",
       "Government (Diplomatic)            3573\n",
       "Terrorists/Non-State Militia       3039\n",
       "Journalists & Media                2948\n",
       "Violent Political Party            1866\n",
       "Airports & Aircraft                1343\n",
       "Telecommunication                  1009\n",
       "NGO                                 970\n",
       "Tourists                            440\n",
       "Maritime                            351\n",
       "Food or Water Supply                317\n",
       "Abortion Related                    263\n",
       "Other                               137\n",
       "Name: targtype1_txt, dtype: int64"
      ]
     },
     "execution_count": 29,
     "metadata": {},
     "output_type": "execute_result"
    }
   ],
   "source": [
    "df['targtype1_txt'].value_counts()"
   ]
  },
  {
   "cell_type": "code",
   "execution_count": 30,
   "metadata": {
    "_uuid": "3501ba26dcf69214dc9cb64c6861a5da263b33a4"
   },
   "outputs": [
    {
     "data": {
      "image/png": "[encoded data removed]",
      "text/plain": [
       "<Figure size 1080x720 with 1 Axes>"
      ]
     },
     "metadata": {},
     "output_type": "display_data"
    }
   ],
   "source": [
    "fig, ax = plt.subplots(figsize=(15,10))\n",
    "ax = sns.countplot(x = 'targtype1_txt', data=df, palette='icefire', order=df['targtype1_txt'].value_counts().index)\n",
    "_ = plt.xlabel('Targets of attack')\n",
    "_ = plt.setp(ax.get_xticklabels(), rotation = 90)"
   ]
  },
  {
   "cell_type": "markdown",
   "metadata": {
    "_uuid": "87c7cdbea4d69aaa032021807504168c92bebdf6"
   },
   "source": [
    "From the above figure we can see that private citizens and property is the highest target and the top five targets are private citizens and property, military, police, government(general) where people can be found in high numbers and also law & order is affected.  "
   ]
  },
  {
   "cell_type": "code",
   "execution_count": 31,
   "metadata": {
    "_kg_hide-input": true,
    "_uuid": "8a50670ebd03be5a1506ff409fe2a04c4858360d"
   },
   "outputs": [
    {
     "data": {
      "text/plain": [
       "Explosives                                                                     92426\n",
       "Firearms                                                                       58524\n",
       "Unknown                                                                        15157\n",
       "Incendiary                                                                     11135\n",
       "Melee                                                                           3655\n",
       "Chemical                                                                         321\n",
       "Sabotage Equipment                                                               141\n",
       "Vehicle (not to include vehicle-borne explosives, i.e., car or truck bombs)      136\n",
       "Other                                                                            114\n",
       "Biological                                                                        35\n",
       "Fake Weapons                                                                      33\n",
       "Radiological                                                                      14\n",
       "Name: weaptype1_txt, dtype: int64"
      ]
     },
     "execution_count": 31,
     "metadata": {},
     "output_type": "execute_result"
    }
   ],
   "source": [
    "df['weaptype1_txt'].value_counts()"
   ]
  },
  {
   "cell_type": "code",
   "execution_count": 32,
   "metadata": {
    "_uuid": "41b4e6f311a1b8437200bf99b6e1ed02ffed4bf8"
   },
   "outputs": [
    {
     "data": {
      "text/plain": [
       "0"
      ]
     },
     "execution_count": 32,
     "metadata": {},
     "output_type": "execute_result"
    }
   ],
   "source": [
    "df['weaptype1_txt'].isna().sum()"
   ]
  },
  {
   "cell_type": "code",
   "execution_count": 33,
   "metadata": {
    "_uuid": "d5509836731c16b839e127307dabb3ace684170c"
   },
   "outputs": [
    {
     "data": {
      "image/png": "[encoded data removed]",
      "text/plain": [
       "<Figure size 720x360 with 1 Axes>"
      ]
     },
     "metadata": {},
     "output_type": "display_data"
    }
   ],
   "source": [
    "fig, ax = plt.subplots(figsize=(10, 5))\n",
    "ax = sns.countplot(x='weaptype1_txt', data=df, palette='inferno', order=df['weaptype1_txt'].value_counts().index)\n",
    "_ = plt.xlabel('Weapon Used')\n",
    "_ = plt.setp(ax.get_xticklabels(), rotation = 90)"
   ]
  },
  {
   "cell_type": "markdown",
   "metadata": {
    "_uuid": "30fda8857604820cf8cd1b03a7e84699471cd1e5"
   },
   "source": [
    "As we have already seen that bombing is the goto method for attacks explosives are 1st choice of weapon."
   ]
  },
  {
   "cell_type": "code",
   "execution_count": 34,
   "metadata": {
    "_uuid": "ef25b89365ae8a97256877bdd78548a72812a4ae"
   },
   "outputs": [
    {
     "data": {
      "text/plain": [
       "Unknown    82782\n",
       "Name: gname, dtype: int64"
      ]
     },
     "execution_count": 34,
     "metadata": {},
     "output_type": "execute_result"
    }
   ],
   "source": [
    "df['gname'].value_counts()[0:1]"
   ]
  },
  {
   "cell_type": "markdown",
   "metadata": {
    "_uuid": "765e9fa6425aabb13f8b8e8e81dcf2097dad5328"
   },
   "source": [
    "**Here gname is terrorist group name**.  Here we can see that unknown group/groups has/have caused the highest damage. There can be indivisuals, small unorganized group, separatist etc under this \"unknow group\" umbrella or known groups but didn't claim the attack."
   ]
  },
  {
   "cell_type": "code",
   "execution_count": 35,
   "metadata": {
    "_uuid": "6a0f7a8af82f66798173141a1d1ac99978bcbd85"
   },
   "outputs": [
    {
     "data": {
      "image/png": "[encoded data removed]",
      "text/plain": [
       "<Figure size 1080x720 with 1 Axes>"
      ]
     },
     "metadata": {},
     "output_type": "display_data"
    }
   ],
   "source": [
    "fig, ax = plt.subplots(figsize=(15,10))\n",
    "ax = sns.countplot(x='gname', data=df, palette='inferno', order=df['gname'].value_counts()[1:16].index)\n",
    "_ = plt.xlabel('Terrorist group name')\n",
    "_ = plt.setp(ax.get_xticklabels(), rotation=90) "
   ]
  },
  {
   "cell_type": "markdown",
   "metadata": {
    "_uuid": "3332bb161095171645deda0f872f2afbe0933d59"
   },
   "source": [
    "**Here we can see the top 15 terrerist groups excluding the highest unknown **"
   ]
  },
  {
   "cell_type": "markdown",
   "metadata": {
    "_uuid": "94e925f83a11e9780204196ac2e8c4f3cb7c030a"
   },
   "source": [
    "## Bivariate analysis/visualization"
   ]
  },
  {
   "cell_type": "code",
   "execution_count": 36,
   "metadata": {
    "_uuid": "f6c4463a6eaf930b43dd5bf20b6b11f94fa67c62"
   },
   "outputs": [],
   "source": [
    "df['casualities'] = df['nkill'] + df['nwound']"
   ]
  },
  {
   "cell_type": "code",
   "execution_count": 37,
   "metadata": {
    "_uuid": "60ae60169c569d8586f2c60d517e4817c44ee331"
   },
   "outputs": [
    {
     "data": {
      "text/html": [
       "<div>\n",
       "<style scoped>\n",
       "    .dataframe tbody tr th:only-of-type {\n",
       "        vertical-align: middle;\n",
       "    }\n",
       "\n",
       "    .dataframe tbody tr th {\n",
       "        vertical-align: top;\n",
       "    }\n",
       "\n",
       "    .dataframe thead th {\n",
       "        text-align: right;\n",
       "    }\n",
       "</style>\n",
       "<table border=\"1\" class=\"dataframe\">\n",
       "  <thead>\n",
       "    <tr style=\"text-align: right;\">\n",
       "      <th></th>\n",
       "      <th>country_txt</th>\n",
       "      <th>casualities</th>\n",
       "    </tr>\n",
       "  </thead>\n",
       "  <tbody>\n",
       "    <tr>\n",
       "      <th>0</th>\n",
       "      <td>Afghanistan</td>\n",
       "      <td>80213.0</td>\n",
       "    </tr>\n",
       "    <tr>\n",
       "      <th>1</th>\n",
       "      <td>Albania</td>\n",
       "      <td>168.0</td>\n",
       "    </tr>\n",
       "    <tr>\n",
       "      <th>2</th>\n",
       "      <td>Algeria</td>\n",
       "      <td>19296.0</td>\n",
       "    </tr>\n",
       "    <tr>\n",
       "      <th>3</th>\n",
       "      <td>Andorra</td>\n",
       "      <td>0.0</td>\n",
       "    </tr>\n",
       "    <tr>\n",
       "      <th>4</th>\n",
       "      <td>Angola</td>\n",
       "      <td>4874.0</td>\n",
       "    </tr>\n",
       "  </tbody>\n",
       "</table>\n",
       "</div>"
      ],
      "text/plain": [
       "   country_txt  casualities\n",
       "0  Afghanistan      80213.0\n",
       "1      Albania        168.0\n",
       "2      Algeria      19296.0\n",
       "3      Andorra          0.0\n",
       "4       Angola       4874.0"
      ]
     },
     "execution_count": 37,
     "metadata": {},
     "output_type": "execute_result"
    }
   ],
   "source": [
    "df_country_cas = pd.concat([df['country_txt'], df['casualities']], axis=1)\n",
    "df3 = pd.DataFrame(df_country_cas.groupby('country_txt').sum().reset_index())\n",
    "df3.head()"
   ]
  },
  {
   "cell_type": "code",
   "execution_count": 38,
   "metadata": {
    "_kg_hide-input": true,
    "_kg_hide-output": true,
    "_uuid": "dfb56cf7f2ac821a7a8d86607ab36003b92aae5d"
   },
   "outputs": [
    {
     "name": "stdout",
     "output_type": "stream",
     "text": [
      "(205, 2)\n"
     ]
    }
   ],
   "source": [
    "print(df3.shape)"
   ]
  },
  {
   "cell_type": "code",
   "execution_count": 39,
   "metadata": {
    "_uuid": "78e0127100fb733cbbe9a540659406ac32a88c4e"
   },
   "outputs": [
    {
     "data": {
      "application/vnd.plotly.v1+json": {
       "config": {
        "linkText": "Export to plot.ly",
        "plotlyServerURL": "https://plot.ly",
        "showLink": false
       },
       "data": [
        {
         "marker": {
          "color": [
           0.03568829940265625,
           1.084566532922253,
           -1.1827651057485344,
           0.9771933057866962,
           -0.09012961260868857,
           -0.15404461568058958,
           0.3764040807585223,
           1.0222885759722393,
           0.044018245264728445,
           -0.9344112902429305,
           0.01167104244793017,
           1.5923874827686153,
           0.9174304947048733,
           -0.9326372778011376,
           -0.9325753772494189,
           -0.4808988335578253,
           -2.0985750570364763,
           0.43994157196436834,
           0.1262063454894195,
           -0.5483932524442136,
           1.2419174321638211,
           0.4214483121746437,
           1.117070467629402,
           -2.0217620689170004,
           0.24672938062170327,
           0.6026916128434753,
           -2.270419756182943,
           0.040959910328664806,
           0.38391977750394085,
           0.10666946223751474,
           0.3886961441081104,
           2.3028875899113292,
           0.9681576114950109,
           -1.744459482913985,
           -0.6387187773244952,
           -0.8139377681484904,
           0.76676706718226,
           -0.6513879044286556,
           1.018724023138285,
           0.27103211285470236,
           -0.07979460861297341,
           -0.48122396551200297,
           -0.3216845384191947,
           1.4387530071048533,
           -0.5769776480689004,
           0.13166712349098356,
           -1.62910736570057,
           0.48014511070564697,
           1.6965045996897463,
           1.339788417186894,
           1.1365801050393796,
           -0.6130784505942665,
           -0.426026916094456,
           -0.47257473267640104,
           0.09493318909366029,
           -0.5716426538427309,
           0.18984271230571276,
           -0.21440163208086807,
           1.622446185290664,
           -1.6711377306971322,
           1.492266658949692,
           -0.9025385616545061,
           -0.38715432074436107,
           -0.7738439252319863,
           -1.6272238165525292,
           -0.5184854567065955,
           -1.39713348326789,
           -1.4059217247753222,
           0.43629960451344385,
           -0.9586096613153252,
           -0.2857972492606064,
           0.047726548680619235,
           1.1303987369242614,
           0.0063697874547302665,
           0.9997084515303621,
           0.8836893996138029,
           1.1703487732353262,
           -1.4514393931581941,
           -0.429607253596732,
           1.4047051994960793,
           -0.062271260679356975,
           -0.3365343061827782,
           -0.3596422669493262,
           0.850442004612809,
           -0.00046493696743731,
           -2.0280302778555916,
           1.7769405836882788,
           1.2845804344671292,
           -0.4896478546592047,
           -0.408368233793491,
           -0.7383815934372207,
           -0.6340462405915658,
           0.30722054357267076,
           -0.29752124543228525,
           0.5505378976536424,
           1.7299191196268782,
           0.6764931220306205,
           0.758627180467357,
           0.9255766420376789,
           -0.23922661349104654,
           -0.3189147806401185,
           -0.9812118113549975,
           -0.674803736113703,
           -0.7107342256047463,
           -0.7938712669274653,
           -0.8176430890413738,
           -0.05662730373974006,
           0.6559066973049095,
           -2.2420522742006215,
           -2.154338467970429,
           -1.2164298097131334,
           0.011590145638105903,
           -0.21367089046211288,
           -0.6049829838203632,
           -0.024041786090974966,
           1.6347814192438583,
           1.2036971945384307,
           -0.3846674065570025,
           -0.29332193868749473,
           0.9422764323537937,
           -0.158822414969874,
           -0.9555919215945002,
           0.2669379135669708,
           0.2542875106135329,
           -0.3114773730035657,
           2.1059914905206827,
           -3.08559210429819,
           -0.19747038111697626,
           1.0350372141637192,
           -0.12455204000721688,
           0.5482782364633818,
           -2.45104833109997,
           -0.05887220184948863,
           2.0200030747724966,
           0.7533198894570208,
           0.8761200818614074,
           1.9783590284779937,
           -1.2566661159301544,
           -0.7644919461653457,
           -1.3141936487826862,
           -0.0833321489324443,
           1.7579246503125017,
           -0.026008939566493892,
           0.42756335738178236,
           -0.6973794835724635,
           0.09448272329500351,
           1.4933608600398316,
           0.7604151833811813,
           0.06962033746224176,
           1.7054133206688897,
           0.8477860692685792,
           0.4290633452335467,
           0.48675217405992866,
           0.01506970336398415,
           0.20913982266550785,
           0.6885041473942466,
           -0.23431271529897238,
           0.3085654090489188,
           0.2686721390836717,
           -1.0866308952289465,
           1.3705448686312092,
           -0.16869408603402242,
           1.3927691440620507,
           0.9504376996551976,
           -2.4375030470188763,
           0.28451200283458594,
           -0.5218847960530836,
           0.36726598690710754,
           -0.34253821935134804,
           -1.164905306675911,
           0.11345596308514466,
           1.1737311687784335,
           -1.6803677042829184,
           0.8331446099695642,
           1.141386838527454,
           0.2906850886628026,
           0.47810445774905114,
           0.6146127797932409,
           1.2205379292914609,
           -0.23822548966485757,
           1.221211405601203,
           1.0258482743718313,
           -0.9731854889601667,
           -1.6029772756105207,
           -0.8655098616431162,
           -0.8784698327792896,
           1.5141721981328262,
           -0.3560307225950118,
           1.4298671734881045,
           -2.3770539188583717,
           -0.21003895608305592,
           0.2703670577337423,
           -0.20097564380642305,
           -0.11657733560663447,
           -0.5584322824006893,
           -1.8015945018567137,
           0.8401534262672996,
           -0.5994628750253017,
           0.42203612443855115,
           -0.06459069747017465,
           0.758093171343991,
           0.972868585501833,
           -1.4260743822062831,
           0.1738355013417399,
           1.0024585018939645
          ],
          "colorscale": "Viridis",
          "opacity": 0.6,
          "size": 10
         },
         "mode": "markers",
         "type": "scatter",
         "uid": "192406d4-9672-4a26-8079-25466ad4f151",
         "x": [
          "Afghanistan",
          "Albania",
          "Algeria",
          "Andorra",
          "Angola",
          "Antigua and Barbuda",
          "Argentina",
          "Armenia",
          "Australia",
          "Austria",
          "Azerbaijan",
          "Bahamas",
          "Bahrain",
          "Bangladesh",
          "Barbados",
          "Belarus",
          "Belgium",
          "Belize",
          "Benin",
          "Bhutan",
          "Bolivia",
          "Bosnia-Herzegovina",
          "Botswana",
          "Brazil",
          "Brunei",
          "Bulgaria",
          "Burkina Faso",
          "Burundi",
          "Cambodia",
          "Cameroon",
          "Canada",
          "Central African Republic",
          "Chad",
          "Chile",
          "China",
          "Colombia",
          "Comoros",
          "Costa Rica",
          "Croatia",
          "Cuba",
          "Cyprus",
          "Czech Republic",
          "Czechoslovakia",
          "Democratic Republic of the Congo",
          "Denmark",
          "Djibouti",
          "Dominica",
          "Dominican Republic",
          "East Germany (GDR)",
          "East Timor",
          "Ecuador",
          "Egypt",
          "El Salvador",
          "Equatorial Guinea",
          "Eritrea",
          "Estonia",
          "Ethiopia",
          "Falkland Islands",
          "Fiji",
          "Finland",
          "France",
          "French Guiana",
          "French Polynesia",
          "Gabon",
          "Gambia",
          "Georgia",
          "Germany",
          "Ghana",
          "Greece",
          "Grenada",
          "Guadeloupe",
          "Guatemala",
          "Guinea",
          "Guinea-Bissau",
          "Guyana",
          "Haiti",
          "Honduras",
          "Hong Kong",
          "Hungary",
          "Iceland",
          "India",
          "Indonesia",
          "International",
          "Iran",
          "Iraq",
          "Ireland",
          "Israel",
          "Italy",
          "Ivory Coast",
          "Jamaica",
          "Japan",
          "Jordan",
          "Kazakhstan",
          "Kenya",
          "Kosovo",
          "Kuwait",
          "Kyrgyzstan",
          "Laos",
          "Latvia",
          "Lebanon",
          "Lesotho",
          "Liberia",
          "Libya",
          "Lithuania",
          "Luxembourg",
          "Macau",
          "Macedonia",
          "Madagascar",
          "Malawi",
          "Malaysia",
          "Maldives",
          "Mali",
          "Malta",
          "Martinique",
          "Mauritania",
          "Mauritius",
          "Mexico",
          "Moldova",
          "Montenegro",
          "Morocco",
          "Mozambique",
          "Myanmar",
          "Namibia",
          "Nepal",
          "Netherlands",
          "New Caledonia",
          "New Hebrides",
          "New Zealand",
          "Nicaragua",
          "Niger",
          "Nigeria",
          "North Korea",
          "North Yemen",
          "Norway",
          "Pakistan",
          "Panama",
          "Papua New Guinea",
          "Paraguay",
          "People's Republic of the Congo",
          "Peru",
          "Philippines",
          "Poland",
          "Portugal",
          "Qatar",
          "Republic of the Congo",
          "Rhodesia",
          "Romania",
          "Russia",
          "Rwanda",
          "Saudi Arabia",
          "Senegal",
          "Serbia",
          "Serbia-Montenegro",
          "Seychelles",
          "Sierra Leone",
          "Singapore",
          "Slovak Republic",
          "Slovenia",
          "Solomon Islands",
          "Somalia",
          "South Africa",
          "South Korea",
          "South Sudan",
          "South Vietnam",
          "South Yemen",
          "Soviet Union",
          "Spain",
          "Sri Lanka",
          "St. Kitts and Nevis",
          "St. Lucia",
          "Sudan",
          "Suriname",
          "Swaziland",
          "Sweden",
          "Switzerland",
          "Syria",
          "Taiwan",
          "Tajikistan",
          "Tanzania",
          "Thailand",
          "Togo",
          "Trinidad and Tobago",
          "Tunisia",
          "Turkey",
          "Turkmenistan",
          "Uganda",
          "Ukraine",
          "United Arab Emirates",
          "United Kingdom",
          "United States",
          "Uruguay",
          "Uzbekistan",
          "Vanuatu",
          "Vatican City",
          "Venezuela",
          "Vietnam",
          "Wallis and Futuna",
          "West Bank and Gaza Strip",
          "West Germany (FRG)",
          "Western Sahara",
          "Yemen",
          "Yugoslavia",
          "Zaire",
          "Zambia",
          "Zimbabwe"
         ],
         "y": [
          80213.0,
          168.0,
          19296.0,
          0.0,
          4874.0,
          0.0,
          1142.0,
          100.0,
          136.0,
          156.0,
          439.0,
          1.0,
          233.0,
          9225.0,
          79.0,
          226.0,
          583.0,
          3.0,
          8.0,
          14.0,
          205.0,
          225.0,
          22.0,
          358.0,
          1.0,
          62.0,
          334.0,
          6169.0,
          1286.0,
          2321.0,
          511.0,
          2044.0,
          2581.0,
          978.0,
          2564.0,
          23767.0,
          3.0,
          55.0,
          321.0,
          18.0,
          69.0,
          35.0,
          50.0,
          4203.0,
          34.0,
          436.0,
          13.0,
          155.0,
          39.0,
          12.0,
          128.0,
          8655.0,
          16181.0,
          5.0,
          108.0,
          14.0,
          2630.0,
          0.0,
          26.0,
          38.0,
          3012.0,
          14.0,
          13.0,
          9.0,
          15.0,
          665.0,
          767.0,
          32.0,
          1044.0,
          30.0,
          53.0,
          6101.0,
          131.0,
          43.0,
          60.0,
          627.0,
          526.0,
          106.0,
          23.0,
          0.0,
          47108.0,
          3562.0,
          13.0,
          5623.0,
          202982.0,
          66.0,
          9426.0,
          1665.0,
          400.0,
          68.0,
          7013.0,
          393.0,
          60.0,
          7948.0,
          447.0,
          359.0,
          36.0,
          80.0,
          38.0,
          14765.0,
          80.0,
          198.0,
          5507.0,
          3.0,
          6.0,
          47.0,
          98.0,
          216.0,
          33.0,
          248.0,
          142.0,
          2579.0,
          17.0,
          1.0,
          71.0,
          1.0,
          1418.0,
          101.0,
          1.0,
          481.0,
          4195.0,
          2698.0,
          621.0,
          3444.0,
          91.0,
          58.0,
          0.0,
          3.0,
          10437.0,
          1810.0,
          21728.0,
          7.0,
          4.0,
          167.0,
          64427.0,
          121.0,
          169.0,
          125.0,
          15.0,
          16246.0,
          22361.0,
          40.0,
          127.0,
          20.0,
          101.0,
          312.0,
          13.0,
          11126.0,
          4157.0,
          2199.0,
          640.0,
          12.0,
          8.0,
          0.0,
          784.0,
          8.0,
          18.0,
          3.0,
          4.0,
          16720.0,
          7113.0,
          144.0,
          3397.0,
          81.0,
          2.0,
          246.0,
          6135.0,
          29792.0,
          9.0,
          14.0,
          4769.0,
          53.0,
          9.0,
          101.0,
          168.0,
          21614.0,
          122.0,
          1395.0,
          303.0,
          10476.0,
          110.0,
          38.0,
          762.0,
          16694.0,
          6.0,
          3698.0,
          4531.0,
          150.0,
          7591.0,
          24469.0,
          12.0,
          268.0,
          0.0,
          3.0,
          474.0,
          28.0,
          0.0,
          4336.0,
          938.0,
          5.0,
          16288.0,
          391.0,
          507.0,
          132.0,
          376.0
         ]
        }
       ],
       "layout": {}
      },
      "text/html": [
       "<div id=\"f37cb1f9-3e42-4790-9dba-ee276f73194d\" style=\"height: 525px; width: 100%;\" class=\"plotly-graph-div\"></div><script type=\"text/javascript\">require([\"plotly\"], function(Plotly) { window.PLOTLYENV=window.PLOTLYENV || {};window.PLOTLYENV.BASE_URL=\"https://plot.ly\";\n",
       "if (document.getElementById(\"f37cb1f9-3e42-4790-9dba-ee276f73194d\")) {\n",
       "    Plotly.newPlot(\"f37cb1f9-3e42-4790-9dba-ee276f73194d\", [{\"marker\": {\"color\": [0.03568829940265625, 1.084566532922253, -1.1827651057485344, 0.9771933057866962, -0.09012961260868857, -0.15404461568058958, 0.3764040807585223, 1.0222885759722393, 0.044018245264728445, -0.9344112902429305, 0.01167104244793017, 1.5923874827686153, 0.9174304947048733, -0.9326372778011376, -0.9325753772494189, -0.4808988335578253, -2.0985750570364763, 0.43994157196436834, 0.1262063454894195, -0.5483932524442136, 1.2419174321638211, 0.4214483121746437, 1.117070467629402, -2.0217620689170004, 0.24672938062170327, 0.6026916128434753, -2.270419756182943, 0.040959910328664806, 0.38391977750394085, 0.10666946223751474, 0.3886961441081104, 2.3028875899113292, 0.9681576114950109, -1.744459482913985, -0.6387187773244952, -0.8139377681484904, 0.76676706718226, -0.6513879044286556, 1.018724023138285, 0.27103211285470236, -0.07979460861297341, -0.48122396551200297, -0.3216845384191947, 1.4387530071048533, -0.5769776480689004, 0.13166712349098356, -1.62910736570057, 0.48014511070564697, 1.6965045996897463, 1.339788417186894, 1.1365801050393796, -0.6130784505942665, -0.426026916094456, -0.47257473267640104, 0.09493318909366029, -0.5716426538427309, 0.18984271230571276, -0.21440163208086807, 1.622446185290664, -1.6711377306971322, 1.492266658949692, -0.9025385616545061, -0.38715432074436107, -0.7738439252319863, -1.6272238165525292, -0.5184854567065955, -1.39713348326789, -1.4059217247753222, 0.43629960451344385, -0.9586096613153252, -0.2857972492606064, 0.047726548680619235, 1.1303987369242614, 0.0063697874547302665, 0.9997084515303621, 0.8836893996138029, 1.1703487732353262, -1.4514393931581941, -0.429607253596732, 1.4047051994960793, -0.062271260679356975, -0.3365343061827782, -0.3596422669493262, 0.850442004612809, -0.00046493696743731, -2.0280302778555916, 1.7769405836882788, 1.2845804344671292, -0.4896478546592047, -0.408368233793491, -0.7383815934372207, -0.6340462405915658, 0.30722054357267076, -0.29752124543228525, 0.5505378976536424, 1.7299191196268782, 0.6764931220306205, 0.758627180467357, 0.9255766420376789, -0.23922661349104654, -0.3189147806401185, -0.9812118113549975, -0.674803736113703, -0.7107342256047463, -0.7938712669274653, -0.8176430890413738, -0.05662730373974006, 0.6559066973049095, -2.2420522742006215, -2.154338467970429, -1.2164298097131334, 0.011590145638105903, -0.21367089046211288, -0.6049829838203632, -0.024041786090974966, 1.6347814192438583, 1.2036971945384307, -0.3846674065570025, -0.29332193868749473, 0.9422764323537937, -0.158822414969874, -0.9555919215945002, 0.2669379135669708, 0.2542875106135329, -0.3114773730035657, 2.1059914905206827, -3.08559210429819, -0.19747038111697626, 1.0350372141637192, -0.12455204000721688, 0.5482782364633818, -2.45104833109997, -0.05887220184948863, 2.0200030747724966, 0.7533198894570208, 0.8761200818614074, 1.9783590284779937, -1.2566661159301544, -0.7644919461653457, -1.3141936487826862, -0.0833321489324443, 1.7579246503125017, -0.026008939566493892, 0.42756335738178236, -0.6973794835724635, 0.09448272329500351, 1.4933608600398316, 0.7604151833811813, 0.06962033746224176, 1.7054133206688897, 0.8477860692685792, 0.4290633452335467, 0.48675217405992866, 0.01506970336398415, 0.20913982266550785, 0.6885041473942466, -0.23431271529897238, 0.3085654090489188, 0.2686721390836717, -1.0866308952289465, 1.3705448686312092, -0.16869408603402242, 1.3927691440620507, 0.9504376996551976, -2.4375030470188763, 0.28451200283458594, -0.5218847960530836, 0.36726598690710754, -0.34253821935134804, -1.164905306675911, 0.11345596308514466, 1.1737311687784335, -1.6803677042829184, 0.8331446099695642, 1.141386838527454, 0.2906850886628026, 0.47810445774905114, 0.6146127797932409, 1.2205379292914609, -0.23822548966485757, 1.221211405601203, 1.0258482743718313, -0.9731854889601667, -1.6029772756105207, -0.8655098616431162, -0.8784698327792896, 1.5141721981328262, -0.3560307225950118, 1.4298671734881045, -2.3770539188583717, -0.21003895608305592, 0.2703670577337423, -0.20097564380642305, -0.11657733560663447, -0.5584322824006893, -1.8015945018567137, 0.8401534262672996, -0.5994628750253017, 0.42203612443855115, -0.06459069747017465, 0.758093171343991, 0.972868585501833, -1.4260743822062831, 0.1738355013417399, 1.0024585018939645], \"colorscale\": \"Viridis\", \"opacity\": 0.6, \"size\": 10}, \"mode\": \"markers\", \"x\": [\"Afghanistan\", \"Albania\", \"Algeria\", \"Andorra\", \"Angola\", \"Antigua and Barbuda\", \"Argentina\", \"Armenia\", \"Australia\", \"Austria\", \"Azerbaijan\", \"Bahamas\", \"Bahrain\", \"Bangladesh\", \"Barbados\", \"Belarus\", \"Belgium\", \"Belize\", \"Benin\", \"Bhutan\", \"Bolivia\", \"Bosnia-Herzegovina\", \"Botswana\", \"Brazil\", \"Brunei\", \"Bulgaria\", \"Burkina Faso\", \"Burundi\", \"Cambodia\", \"Cameroon\", \"Canada\", \"Central African Republic\", \"Chad\", \"Chile\", \"China\", \"Colombia\", \"Comoros\", \"Costa Rica\", \"Croatia\", \"Cuba\", \"Cyprus\", \"Czech Republic\", \"Czechoslovakia\", \"Democratic Republic of the Congo\", \"Denmark\", \"Djibouti\", \"Dominica\", \"Dominican Republic\", \"East Germany (GDR)\", \"East Timor\", \"Ecuador\", \"Egypt\", \"El Salvador\", \"Equatorial Guinea\", \"Eritrea\", \"Estonia\", \"Ethiopia\", \"Falkland Islands\", \"Fiji\", \"Finland\", \"France\", \"French Guiana\", \"French Polynesia\", \"Gabon\", \"Gambia\", \"Georgia\", \"Germany\", \"Ghana\", \"Greece\", \"Grenada\", \"Guadeloupe\", \"Guatemala\", \"Guinea\", \"Guinea-Bissau\", \"Guyana\", \"Haiti\", \"Honduras\", \"Hong Kong\", \"Hungary\", \"Iceland\", \"India\", \"Indonesia\", \"International\", \"Iran\", \"Iraq\", \"Ireland\", \"Israel\", \"Italy\", \"Ivory Coast\", \"Jamaica\", \"Japan\", \"Jordan\", \"Kazakhstan\", \"Kenya\", \"Kosovo\", \"Kuwait\", \"Kyrgyzstan\", \"Laos\", \"Latvia\", \"Lebanon\", \"Lesotho\", \"Liberia\", \"Libya\", \"Lithuania\", \"Luxembourg\", \"Macau\", \"Macedonia\", \"Madagascar\", \"Malawi\", \"Malaysia\", \"Maldives\", \"Mali\", \"Malta\", \"Martinique\", \"Mauritania\", \"Mauritius\", \"Mexico\", \"Moldova\", \"Montenegro\", \"Morocco\", \"Mozambique\", \"Myanmar\", \"Namibia\", \"Nepal\", \"Netherlands\", \"New Caledonia\", \"New Hebrides\", \"New Zealand\", \"Nicaragua\", \"Niger\", \"Nigeria\", \"North Korea\", \"North Yemen\", \"Norway\", \"Pakistan\", \"Panama\", \"Papua New Guinea\", \"Paraguay\", \"People's Republic of the Congo\", \"Peru\", \"Philippines\", \"Poland\", \"Portugal\", \"Qatar\", \"Republic of the Congo\", \"Rhodesia\", \"Romania\", \"Russia\", \"Rwanda\", \"Saudi Arabia\", \"Senegal\", \"Serbia\", \"Serbia-Montenegro\", \"Seychelles\", \"Sierra Leone\", \"Singapore\", \"Slovak Republic\", \"Slovenia\", \"Solomon Islands\", \"Somalia\", \"South Africa\", \"South Korea\", \"South Sudan\", \"South Vietnam\", \"South Yemen\", \"Soviet Union\", \"Spain\", \"Sri Lanka\", \"St. Kitts and Nevis\", \"St. Lucia\", \"Sudan\", \"Suriname\", \"Swaziland\", \"Sweden\", \"Switzerland\", \"Syria\", \"Taiwan\", \"Tajikistan\", \"Tanzania\", \"Thailand\", \"Togo\", \"Trinidad and Tobago\", \"Tunisia\", \"Turkey\", \"Turkmenistan\", \"Uganda\", \"Ukraine\", \"United Arab Emirates\", \"United Kingdom\", \"United States\", \"Uruguay\", \"Uzbekistan\", \"Vanuatu\", \"Vatican City\", \"Venezuela\", \"Vietnam\", \"Wallis and Futuna\", \"West Bank and Gaza Strip\", \"West Germany (FRG)\", \"Western Sahara\", \"Yemen\", \"Yugoslavia\", \"Zaire\", \"Zambia\", \"Zimbabwe\"], \"y\": [80213.0, 168.0, 19296.0, 0.0, 4874.0, 0.0, 1142.0, 100.0, 136.0, 156.0, 439.0, 1.0, 233.0, 9225.0, 79.0, 226.0, 583.0, 3.0, 8.0, 14.0, 205.0, 225.0, 22.0, 358.0, 1.0, 62.0, 334.0, 6169.0, 1286.0, 2321.0, 511.0, 2044.0, 2581.0, 978.0, 2564.0, 23767.0, 3.0, 55.0, 321.0, 18.0, 69.0, 35.0, 50.0, 4203.0, 34.0, 436.0, 13.0, 155.0, 39.0, 12.0, 128.0, 8655.0, 16181.0, 5.0, 108.0, 14.0, 2630.0, 0.0, 26.0, 38.0, 3012.0, 14.0, 13.0, 9.0, 15.0, 665.0, 767.0, 32.0, 1044.0, 30.0, 53.0, 6101.0, 131.0, 43.0, 60.0, 627.0, 526.0, 106.0, 23.0, 0.0, 47108.0, 3562.0, 13.0, 5623.0, 202982.0, 66.0, 9426.0, 1665.0, 400.0, 68.0, 7013.0, 393.0, 60.0, 7948.0, 447.0, 359.0, 36.0, 80.0, 38.0, 14765.0, 80.0, 198.0, 5507.0, 3.0, 6.0, 47.0, 98.0, 216.0, 33.0, 248.0, 142.0, 2579.0, 17.0, 1.0, 71.0, 1.0, 1418.0, 101.0, 1.0, 481.0, 4195.0, 2698.0, 621.0, 3444.0, 91.0, 58.0, 0.0, 3.0, 10437.0, 1810.0, 21728.0, 7.0, 4.0, 167.0, 64427.0, 121.0, 169.0, 125.0, 15.0, 16246.0, 22361.0, 40.0, 127.0, 20.0, 101.0, 312.0, 13.0, 11126.0, 4157.0, 2199.0, 640.0, 12.0, 8.0, 0.0, 784.0, 8.0, 18.0, 3.0, 4.0, 16720.0, 7113.0, 144.0, 3397.0, 81.0, 2.0, 246.0, 6135.0, 29792.0, 9.0, 14.0, 4769.0, 53.0, 9.0, 101.0, 168.0, 21614.0, 122.0, 1395.0, 303.0, 10476.0, 110.0, 38.0, 762.0, 16694.0, 6.0, 3698.0, 4531.0, 150.0, 7591.0, 24469.0, 12.0, 268.0, 0.0, 3.0, 474.0, 28.0, 0.0, 4336.0, 938.0, 5.0, 16288.0, 391.0, 507.0, 132.0, 376.0], \"type\": \"scatter\", \"uid\": \"192406d4-9672-4a26-8079-25466ad4f151\"}], {}, {\"showLink\": false, \"linkText\": \"Export to plot.ly\", \"plotlyServerURL\": \"https://plot.ly\"}); \n",
       "}\n",
       "});</script><script type=\"text/javascript\">window.addEventListener(\"resize\", function(){if (document.getElementById(\"f37cb1f9-3e42-4790-9dba-ee276f73194d\")) {window._Plotly.Plots.resize(document.getElementById(\"f37cb1f9-3e42-4790-9dba-ee276f73194d\"));};})</script>"
      ],
      "text/vnd.plotly.v1+html": [
       "<div id=\"f37cb1f9-3e42-4790-9dba-ee276f73194d\" style=\"height: 525px; width: 100%;\" class=\"plotly-graph-div\"></div><script type=\"text/javascript\">require([\"plotly\"], function(Plotly) { window.PLOTLYENV=window.PLOTLYENV || {};window.PLOTLYENV.BASE_URL=\"https://plot.ly\";\n",
       "if (document.getElementById(\"f37cb1f9-3e42-4790-9dba-ee276f73194d\")) {\n",
       "    Plotly.newPlot(\"f37cb1f9-3e42-4790-9dba-ee276f73194d\", [{\"marker\": {\"color\": [0.03568829940265625, 1.084566532922253, -1.1827651057485344, 0.9771933057866962, -0.09012961260868857, -0.15404461568058958, 0.3764040807585223, 1.0222885759722393, 0.044018245264728445, -0.9344112902429305, 0.01167104244793017, 1.5923874827686153, 0.9174304947048733, -0.9326372778011376, -0.9325753772494189, -0.4808988335578253, -2.0985750570364763, 0.43994157196436834, 0.1262063454894195, -0.5483932524442136, 1.2419174321638211, 0.4214483121746437, 1.117070467629402, -2.0217620689170004, 0.24672938062170327, 0.6026916128434753, -2.270419756182943, 0.040959910328664806, 0.38391977750394085, 0.10666946223751474, 0.3886961441081104, 2.3028875899113292, 0.9681576114950109, -1.744459482913985, -0.6387187773244952, -0.8139377681484904, 0.76676706718226, -0.6513879044286556, 1.018724023138285, 0.27103211285470236, -0.07979460861297341, -0.48122396551200297, -0.3216845384191947, 1.4387530071048533, -0.5769776480689004, 0.13166712349098356, -1.62910736570057, 0.48014511070564697, 1.6965045996897463, 1.339788417186894, 1.1365801050393796, -0.6130784505942665, -0.426026916094456, -0.47257473267640104, 0.09493318909366029, -0.5716426538427309, 0.18984271230571276, -0.21440163208086807, 1.622446185290664, -1.6711377306971322, 1.492266658949692, -0.9025385616545061, -0.38715432074436107, -0.7738439252319863, -1.6272238165525292, -0.5184854567065955, -1.39713348326789, -1.4059217247753222, 0.43629960451344385, -0.9586096613153252, -0.2857972492606064, 0.047726548680619235, 1.1303987369242614, 0.0063697874547302665, 0.9997084515303621, 0.8836893996138029, 1.1703487732353262, -1.4514393931581941, -0.429607253596732, 1.4047051994960793, -0.062271260679356975, -0.3365343061827782, -0.3596422669493262, 0.850442004612809, -0.00046493696743731, -2.0280302778555916, 1.7769405836882788, 1.2845804344671292, -0.4896478546592047, -0.408368233793491, -0.7383815934372207, -0.6340462405915658, 0.30722054357267076, -0.29752124543228525, 0.5505378976536424, 1.7299191196268782, 0.6764931220306205, 0.758627180467357, 0.9255766420376789, -0.23922661349104654, -0.3189147806401185, -0.9812118113549975, -0.674803736113703, -0.7107342256047463, -0.7938712669274653, -0.8176430890413738, -0.05662730373974006, 0.6559066973049095, -2.2420522742006215, -2.154338467970429, -1.2164298097131334, 0.011590145638105903, -0.21367089046211288, -0.6049829838203632, -0.024041786090974966, 1.6347814192438583, 1.2036971945384307, -0.3846674065570025, -0.29332193868749473, 0.9422764323537937, -0.158822414969874, -0.9555919215945002, 0.2669379135669708, 0.2542875106135329, -0.3114773730035657, 2.1059914905206827, -3.08559210429819, -0.19747038111697626, 1.0350372141637192, -0.12455204000721688, 0.5482782364633818, -2.45104833109997, -0.05887220184948863, 2.0200030747724966, 0.7533198894570208, 0.8761200818614074, 1.9783590284779937, -1.2566661159301544, -0.7644919461653457, -1.3141936487826862, -0.0833321489324443, 1.7579246503125017, -0.026008939566493892, 0.42756335738178236, -0.6973794835724635, 0.09448272329500351, 1.4933608600398316, 0.7604151833811813, 0.06962033746224176, 1.7054133206688897, 0.8477860692685792, 0.4290633452335467, 0.48675217405992866, 0.01506970336398415, 0.20913982266550785, 0.6885041473942466, -0.23431271529897238, 0.3085654090489188, 0.2686721390836717, -1.0866308952289465, 1.3705448686312092, -0.16869408603402242, 1.3927691440620507, 0.9504376996551976, -2.4375030470188763, 0.28451200283458594, -0.5218847960530836, 0.36726598690710754, -0.34253821935134804, -1.164905306675911, 0.11345596308514466, 1.1737311687784335, -1.6803677042829184, 0.8331446099695642, 1.141386838527454, 0.2906850886628026, 0.47810445774905114, 0.6146127797932409, 1.2205379292914609, -0.23822548966485757, 1.221211405601203, 1.0258482743718313, -0.9731854889601667, -1.6029772756105207, -0.8655098616431162, -0.8784698327792896, 1.5141721981328262, -0.3560307225950118, 1.4298671734881045, -2.3770539188583717, -0.21003895608305592, 0.2703670577337423, -0.20097564380642305, -0.11657733560663447, -0.5584322824006893, -1.8015945018567137, 0.8401534262672996, -0.5994628750253017, 0.42203612443855115, -0.06459069747017465, 0.758093171343991, 0.972868585501833, -1.4260743822062831, 0.1738355013417399, 1.0024585018939645], \"colorscale\": \"Viridis\", \"opacity\": 0.6, \"size\": 10}, \"mode\": \"markers\", \"x\": [\"Afghanistan\", \"Albania\", \"Algeria\", \"Andorra\", \"Angola\", \"Antigua and Barbuda\", \"Argentina\", \"Armenia\", \"Australia\", \"Austria\", \"Azerbaijan\", \"Bahamas\", \"Bahrain\", \"Bangladesh\", \"Barbados\", \"Belarus\", \"Belgium\", \"Belize\", \"Benin\", \"Bhutan\", \"Bolivia\", \"Bosnia-Herzegovina\", \"Botswana\", \"Brazil\", \"Brunei\", \"Bulgaria\", \"Burkina Faso\", \"Burundi\", \"Cambodia\", \"Cameroon\", \"Canada\", \"Central African Republic\", \"Chad\", \"Chile\", \"China\", \"Colombia\", \"Comoros\", \"Costa Rica\", \"Croatia\", \"Cuba\", \"Cyprus\", \"Czech Republic\", \"Czechoslovakia\", \"Democratic Republic of the Congo\", \"Denmark\", \"Djibouti\", \"Dominica\", \"Dominican Republic\", \"East Germany (GDR)\", \"East Timor\", \"Ecuador\", \"Egypt\", \"El Salvador\", \"Equatorial Guinea\", \"Eritrea\", \"Estonia\", \"Ethiopia\", \"Falkland Islands\", \"Fiji\", \"Finland\", \"France\", \"French Guiana\", \"French Polynesia\", \"Gabon\", \"Gambia\", \"Georgia\", \"Germany\", \"Ghana\", \"Greece\", \"Grenada\", \"Guadeloupe\", \"Guatemala\", \"Guinea\", \"Guinea-Bissau\", \"Guyana\", \"Haiti\", \"Honduras\", \"Hong Kong\", \"Hungary\", \"Iceland\", \"India\", \"Indonesia\", \"International\", \"Iran\", \"Iraq\", \"Ireland\", \"Israel\", \"Italy\", \"Ivory Coast\", \"Jamaica\", \"Japan\", \"Jordan\", \"Kazakhstan\", \"Kenya\", \"Kosovo\", \"Kuwait\", \"Kyrgyzstan\", \"Laos\", \"Latvia\", \"Lebanon\", \"Lesotho\", \"Liberia\", \"Libya\", \"Lithuania\", \"Luxembourg\", \"Macau\", \"Macedonia\", \"Madagascar\", \"Malawi\", \"Malaysia\", \"Maldives\", \"Mali\", \"Malta\", \"Martinique\", \"Mauritania\", \"Mauritius\", \"Mexico\", \"Moldova\", \"Montenegro\", \"Morocco\", \"Mozambique\", \"Myanmar\", \"Namibia\", \"Nepal\", \"Netherlands\", \"New Caledonia\", \"New Hebrides\", \"New Zealand\", \"Nicaragua\", \"Niger\", \"Nigeria\", \"North Korea\", \"North Yemen\", \"Norway\", \"Pakistan\", \"Panama\", \"Papua New Guinea\", \"Paraguay\", \"People's Republic of the Congo\", \"Peru\", \"Philippines\", \"Poland\", \"Portugal\", \"Qatar\", \"Republic of the Congo\", \"Rhodesia\", \"Romania\", \"Russia\", \"Rwanda\", \"Saudi Arabia\", \"Senegal\", \"Serbia\", \"Serbia-Montenegro\", \"Seychelles\", \"Sierra Leone\", \"Singapore\", \"Slovak Republic\", \"Slovenia\", \"Solomon Islands\", \"Somalia\", \"South Africa\", \"South Korea\", \"South Sudan\", \"South Vietnam\", \"South Yemen\", \"Soviet Union\", \"Spain\", \"Sri Lanka\", \"St. Kitts and Nevis\", \"St. Lucia\", \"Sudan\", \"Suriname\", \"Swaziland\", \"Sweden\", \"Switzerland\", \"Syria\", \"Taiwan\", \"Tajikistan\", \"Tanzania\", \"Thailand\", \"Togo\", \"Trinidad and Tobago\", \"Tunisia\", \"Turkey\", \"Turkmenistan\", \"Uganda\", \"Ukraine\", \"United Arab Emirates\", \"United Kingdom\", \"United States\", \"Uruguay\", \"Uzbekistan\", \"Vanuatu\", \"Vatican City\", \"Venezuela\", \"Vietnam\", \"Wallis and Futuna\", \"West Bank and Gaza Strip\", \"West Germany (FRG)\", \"Western Sahara\", \"Yemen\", \"Yugoslavia\", \"Zaire\", \"Zambia\", \"Zimbabwe\"], \"y\": [80213.0, 168.0, 19296.0, 0.0, 4874.0, 0.0, 1142.0, 100.0, 136.0, 156.0, 439.0, 1.0, 233.0, 9225.0, 79.0, 226.0, 583.0, 3.0, 8.0, 14.0, 205.0, 225.0, 22.0, 358.0, 1.0, 62.0, 334.0, 6169.0, 1286.0, 2321.0, 511.0, 2044.0, 2581.0, 978.0, 2564.0, 23767.0, 3.0, 55.0, 321.0, 18.0, 69.0, 35.0, 50.0, 4203.0, 34.0, 436.0, 13.0, 155.0, 39.0, 12.0, 128.0, 8655.0, 16181.0, 5.0, 108.0, 14.0, 2630.0, 0.0, 26.0, 38.0, 3012.0, 14.0, 13.0, 9.0, 15.0, 665.0, 767.0, 32.0, 1044.0, 30.0, 53.0, 6101.0, 131.0, 43.0, 60.0, 627.0, 526.0, 106.0, 23.0, 0.0, 47108.0, 3562.0, 13.0, 5623.0, 202982.0, 66.0, 9426.0, 1665.0, 400.0, 68.0, 7013.0, 393.0, 60.0, 7948.0, 447.0, 359.0, 36.0, 80.0, 38.0, 14765.0, 80.0, 198.0, 5507.0, 3.0, 6.0, 47.0, 98.0, 216.0, 33.0, 248.0, 142.0, 2579.0, 17.0, 1.0, 71.0, 1.0, 1418.0, 101.0, 1.0, 481.0, 4195.0, 2698.0, 621.0, 3444.0, 91.0, 58.0, 0.0, 3.0, 10437.0, 1810.0, 21728.0, 7.0, 4.0, 167.0, 64427.0, 121.0, 169.0, 125.0, 15.0, 16246.0, 22361.0, 40.0, 127.0, 20.0, 101.0, 312.0, 13.0, 11126.0, 4157.0, 2199.0, 640.0, 12.0, 8.0, 0.0, 784.0, 8.0, 18.0, 3.0, 4.0, 16720.0, 7113.0, 144.0, 3397.0, 81.0, 2.0, 246.0, 6135.0, 29792.0, 9.0, 14.0, 4769.0, 53.0, 9.0, 101.0, 168.0, 21614.0, 122.0, 1395.0, 303.0, 10476.0, 110.0, 38.0, 762.0, 16694.0, 6.0, 3698.0, 4531.0, 150.0, 7591.0, 24469.0, 12.0, 268.0, 0.0, 3.0, 474.0, 28.0, 0.0, 4336.0, 938.0, 5.0, 16288.0, 391.0, 507.0, 132.0, 376.0], \"type\": \"scatter\", \"uid\": \"192406d4-9672-4a26-8079-25466ad4f151\"}], {}, {\"showLink\": false, \"linkText\": \"Export to plot.ly\", \"plotlyServerURL\": \"https://plot.ly\"}); \n",
       "}\n",
       "});</script><script type=\"text/javascript\">window.addEventListener(\"resize\", function(){if (document.getElementById(\"f37cb1f9-3e42-4790-9dba-ee276f73194d\")) {window._Plotly.Plots.resize(document.getElementById(\"f37cb1f9-3e42-4790-9dba-ee276f73194d\"));};})</script>"
      ]
     },
     "metadata": {},
     "output_type": "display_data"
    }
   ],
   "source": [
    "x = df3['country_txt']\n",
    "y = df3['casualities']\n",
    "sz = 10\n",
    "colors = np.random.randn(205)\n",
    "fig = go.Figure()\n",
    "fig.add_scatter(\n",
    "    x = x,\n",
    "    y = y, \n",
    "    mode = 'markers',\n",
    "    marker={\n",
    "        'size':sz,\n",
    "        'color':colors,\n",
    "        'opacity':0.6,\n",
    "        'colorscale':'Viridis'\n",
    "    });\n",
    "iplot(fig)"
   ]
  },
  {
   "cell_type": "code",
   "execution_count": 40,
   "metadata": {
    "_uuid": "3a44ecab60c454021114ff1dde357b8c08fc6287"
   },
   "outputs": [
    {
     "data": {
      "text/plain": [
       "Total         10313.000000\n",
       "Percentage        0.056761\n",
       "Name: nkill, dtype: float64"
      ]
     },
     "execution_count": 40,
     "metadata": {},
     "output_type": "execute_result"
    }
   ],
   "source": [
    "missingdata.loc['nkill', :]"
   ]
  },
  {
   "cell_type": "code",
   "execution_count": 41,
   "metadata": {
    "_uuid": "bd3e150eb1965ee155a230960ac5f33e125f6bc0"
   },
   "outputs": [
    {
     "data": {
      "text/plain": [
       "Total         16311.000000\n",
       "Percentage        0.089773\n",
       "Name: nwound, dtype: float64"
      ]
     },
     "execution_count": 41,
     "metadata": {},
     "output_type": "execute_result"
    }
   ],
   "source": [
    "missingdata.loc['nwound', :]"
   ]
  },
  {
   "cell_type": "code",
   "execution_count": 42,
   "metadata": {
    "_uuid": "023d79b0d1060d49fab15aa1161b16fbd32368f7"
   },
   "outputs": [],
   "source": [
    "df_year_kill = pd.concat([df['iyear'], df['nkill']], axis=1)"
   ]
  },
  {
   "cell_type": "code",
   "execution_count": 43,
   "metadata": {
    "_uuid": "a269d504fc82eead6fd5eabad58fb19eac1a5485"
   },
   "outputs": [
    {
     "data": {
      "text/html": [
       "<div>\n",
       "<style scoped>\n",
       "    .dataframe tbody tr th:only-of-type {\n",
       "        vertical-align: middle;\n",
       "    }\n",
       "\n",
       "    .dataframe tbody tr th {\n",
       "        vertical-align: top;\n",
       "    }\n",
       "\n",
       "    .dataframe thead th {\n",
       "        text-align: right;\n",
       "    }\n",
       "</style>\n",
       "<table border=\"1\" class=\"dataframe\">\n",
       "  <thead>\n",
       "    <tr style=\"text-align: right;\">\n",
       "      <th></th>\n",
       "      <th>iyear</th>\n",
       "      <th>nkill</th>\n",
       "    </tr>\n",
       "  </thead>\n",
       "  <tbody>\n",
       "    <tr>\n",
       "      <th>0</th>\n",
       "      <td>1970</td>\n",
       "      <td>174.0</td>\n",
       "    </tr>\n",
       "    <tr>\n",
       "      <th>1</th>\n",
       "      <td>1971</td>\n",
       "      <td>173.0</td>\n",
       "    </tr>\n",
       "    <tr>\n",
       "      <th>2</th>\n",
       "      <td>1972</td>\n",
       "      <td>566.0</td>\n",
       "    </tr>\n",
       "    <tr>\n",
       "      <th>3</th>\n",
       "      <td>1973</td>\n",
       "      <td>370.0</td>\n",
       "    </tr>\n",
       "    <tr>\n",
       "      <th>4</th>\n",
       "      <td>1974</td>\n",
       "      <td>539.0</td>\n",
       "    </tr>\n",
       "  </tbody>\n",
       "</table>\n",
       "</div>"
      ],
      "text/plain": [
       "   iyear  nkill\n",
       "0   1970  174.0\n",
       "1   1971  173.0\n",
       "2   1972  566.0\n",
       "3   1973  370.0\n",
       "4   1974  539.0"
      ]
     },
     "execution_count": 43,
     "metadata": {},
     "output_type": "execute_result"
    }
   ],
   "source": [
    "df2 = pd.DataFrame(df_year_kill.groupby('iyear').sum().reset_index())\n",
    "df2.head()"
   ]
  },
  {
   "cell_type": "code",
   "execution_count": 44,
   "metadata": {
    "_uuid": "e67163151f1ea74e8931f11604b07fcc0a455941"
   },
   "outputs": [
    {
     "name": "stdout",
     "output_type": "stream",
     "text": [
      "(47, 2)\n"
     ]
    }
   ],
   "source": [
    "print(df2.shape)"
   ]
  },
  {
   "cell_type": "code",
   "execution_count": 45,
   "metadata": {
    "_uuid": "8eab2dd33aea0132682e9e239a938d1fbc5bebfe"
   },
   "outputs": [
    {
     "data": {
      "text/html": [
       "<div>\n",
       "<style scoped>\n",
       "    .dataframe tbody tr th:only-of-type {\n",
       "        vertical-align: middle;\n",
       "    }\n",
       "\n",
       "    .dataframe tbody tr th {\n",
       "        vertical-align: top;\n",
       "    }\n",
       "\n",
       "    .dataframe thead th {\n",
       "        text-align: right;\n",
       "    }\n",
       "</style>\n",
       "<table border=\"1\" class=\"dataframe\">\n",
       "  <thead>\n",
       "    <tr style=\"text-align: right;\">\n",
       "      <th></th>\n",
       "      <th>iyear</th>\n",
       "      <th>nwound</th>\n",
       "    </tr>\n",
       "  </thead>\n",
       "  <tbody>\n",
       "    <tr>\n",
       "      <th>0</th>\n",
       "      <td>1970</td>\n",
       "      <td>212.0</td>\n",
       "    </tr>\n",
       "    <tr>\n",
       "      <th>1</th>\n",
       "      <td>1971</td>\n",
       "      <td>82.0</td>\n",
       "    </tr>\n",
       "    <tr>\n",
       "      <th>2</th>\n",
       "      <td>1972</td>\n",
       "      <td>409.0</td>\n",
       "    </tr>\n",
       "    <tr>\n",
       "      <th>3</th>\n",
       "      <td>1973</td>\n",
       "      <td>495.0</td>\n",
       "    </tr>\n",
       "    <tr>\n",
       "      <th>4</th>\n",
       "      <td>1974</td>\n",
       "      <td>865.0</td>\n",
       "    </tr>\n",
       "  </tbody>\n",
       "</table>\n",
       "</div>"
      ],
      "text/plain": [
       "   iyear  nwound\n",
       "0   1970   212.0\n",
       "1   1971    82.0\n",
       "2   1972   409.0\n",
       "3   1973   495.0\n",
       "4   1974   865.0"
      ]
     },
     "execution_count": 45,
     "metadata": {},
     "output_type": "execute_result"
    }
   ],
   "source": [
    "df_year_wound = pd.concat([df['iyear'], df['nwound']], axis=1)\n",
    "df3 = pd.DataFrame(df_year_wound.groupby('iyear').sum().reset_index())\n",
    "df3.head()"
   ]
  },
  {
   "cell_type": "code",
   "execution_count": 46,
   "metadata": {
    "_uuid": "85c1b81f6216c2a9a8fc0c033ffe3dd79dae3e5b"
   },
   "outputs": [
    {
     "data": {
      "application/vnd.plotly.v1+json": {
       "config": {
        "linkText": "Export to plot.ly",
        "plotlyServerURL": "https://plot.ly",
        "showLink": false
       },
       "data": [
        {
         "marker": {
          "color": [
           0.36653897111746975,
           0.6961524871486853,
           0.5722915966175134,
           0.22995730275565068,
           -1.344223914936275,
           0.7868645997215173,
           -0.5309476741029651,
           -0.7006910276752563,
           1.222131199136191,
           -0.5495966956646963,
           -1.5878003723716,
           -0.6389528188600644,
           -0.8971068271934691,
           -0.5665620987569724,
           0.9061505307991036,
           -1.5681780048651552,
           -0.11278470665873618,
           -0.4148754711547196,
           -1.6478316199066112,
           0.4448436441889945,
           1.4265120340897723,
           -0.8157079821572241,
           0.4194776802696665,
           -0.32092316915743446,
           -0.8458606077774131,
           -1.1147586514893633,
           -2.0083715260439714,
           0.4455221429758076,
           0.40338101013275757,
           1.0707291941267316,
           -0.26906150199764717,
           -0.6843150424629005,
           0.8916670065946986,
           -0.04648451630218036,
           1.1799420871539728,
           -1.0650452669886725,
           -2.797761538331304,
           0.9701944153025249,
           2.003667454488125,
           0.7893030992573686,
           -0.1842444719644788,
           1.1376743593766543,
           -1.271965795628564,
           0.5812188176346769,
           0.7389974645723644,
           -1.0359531284376395,
           0.9809143411376966
          ],
          "colorscale": "Viridis",
          "opacity": 0.6,
          "size": 15
         },
         "mode": "markers",
         "type": "scatter",
         "uid": "d3e31d13-0ac7-4604-95bd-d8ccd4889c9b",
         "x": [
          1970,
          1971,
          1972,
          1973,
          1974,
          1975,
          1976,
          1977,
          1978,
          1979,
          1980,
          1981,
          1982,
          1983,
          1984,
          1985,
          1986,
          1987,
          1988,
          1989,
          1990,
          1991,
          1992,
          1994,
          1995,
          1996,
          1997,
          1998,
          1999,
          2000,
          2001,
          2002,
          2003,
          2004,
          2005,
          2006,
          2007,
          2008,
          2009,
          2010,
          2011,
          2012,
          2013,
          2014,
          2015,
          2016,
          2017
         ],
         "y": [
          174.0,
          173.0,
          566.0,
          370.0,
          539.0,
          617.0,
          674.0,
          456.0,
          1459.0,
          2100.0,
          4400.0,
          4851.0,
          5136.0,
          9444.0,
          10450.0,
          7094.0,
          4976.0,
          6482.0,
          7208.0,
          8152.0,
          7148.0,
          8429.0,
          9742.0,
          7690.0,
          6103.0,
          6966.0,
          10924.0,
          4688.0,
          3393.0,
          4403.0,
          7729.0,
          4805.0,
          3317.0,
          5743.0,
          6331.0,
          9380.0,
          12824.0,
          9157.0,
          9273.0,
          7827.0,
          8246.0,
          15497.0,
          22273.0,
          44490.0,
          38853.0,
          34871.0,
          26445.0
         ]
        }
       ],
       "layout": {}
      },
      "text/html": [
       "<div id=\"c0d6f8e0-c50c-4df4-bcf3-bdbb1685df56\" style=\"height: 525px; width: 100%;\" class=\"plotly-graph-div\"></div><script type=\"text/javascript\">require([\"plotly\"], function(Plotly) { window.PLOTLYENV=window.PLOTLYENV || {};window.PLOTLYENV.BASE_URL=\"https://plot.ly\";\n",
       "if (document.getElementById(\"c0d6f8e0-c50c-4df4-bcf3-bdbb1685df56\")) {\n",
       "    Plotly.newPlot(\"c0d6f8e0-c50c-4df4-bcf3-bdbb1685df56\", [{\"marker\": {\"color\": [0.36653897111746975, 0.6961524871486853, 0.5722915966175134, 0.22995730275565068, -1.344223914936275, 0.7868645997215173, -0.5309476741029651, -0.7006910276752563, 1.222131199136191, -0.5495966956646963, -1.5878003723716, -0.6389528188600644, -0.8971068271934691, -0.5665620987569724, 0.9061505307991036, -1.5681780048651552, -0.11278470665873618, -0.4148754711547196, -1.6478316199066112, 0.4448436441889945, 1.4265120340897723, -0.8157079821572241, 0.4194776802696665, -0.32092316915743446, -0.8458606077774131, -1.1147586514893633, -2.0083715260439714, 0.4455221429758076, 0.40338101013275757, 1.0707291941267316, -0.26906150199764717, -0.6843150424629005, 0.8916670065946986, -0.04648451630218036, 1.1799420871539728, -1.0650452669886725, -2.797761538331304, 0.9701944153025249, 2.003667454488125, 0.7893030992573686, -0.1842444719644788, 1.1376743593766543, -1.271965795628564, 0.5812188176346769, 0.7389974645723644, -1.0359531284376395, 0.9809143411376966], \"colorscale\": \"Viridis\", \"opacity\": 0.6, \"size\": 15}, \"mode\": \"markers\", \"x\": [1970, 1971, 1972, 1973, 1974, 1975, 1976, 1977, 1978, 1979, 1980, 1981, 1982, 1983, 1984, 1985, 1986, 1987, 1988, 1989, 1990, 1991, 1992, 1994, 1995, 1996, 1997, 1998, 1999, 2000, 2001, 2002, 2003, 2004, 2005, 2006, 2007, 2008, 2009, 2010, 2011, 2012, 2013, 2014, 2015, 2016, 2017], \"y\": [174.0, 173.0, 566.0, 370.0, 539.0, 617.0, 674.0, 456.0, 1459.0, 2100.0, 4400.0, 4851.0, 5136.0, 9444.0, 10450.0, 7094.0, 4976.0, 6482.0, 7208.0, 8152.0, 7148.0, 8429.0, 9742.0, 7690.0, 6103.0, 6966.0, 10924.0, 4688.0, 3393.0, 4403.0, 7729.0, 4805.0, 3317.0, 5743.0, 6331.0, 9380.0, 12824.0, 9157.0, 9273.0, 7827.0, 8246.0, 15497.0, 22273.0, 44490.0, 38853.0, 34871.0, 26445.0], \"type\": \"scatter\", \"uid\": \"d3e31d13-0ac7-4604-95bd-d8ccd4889c9b\"}], {}, {\"showLink\": false, \"linkText\": \"Export to plot.ly\", \"plotlyServerURL\": \"https://plot.ly\"}); \n",
       "}\n",
       "});</script><script type=\"text/javascript\">window.addEventListener(\"resize\", function(){if (document.getElementById(\"c0d6f8e0-c50c-4df4-bcf3-bdbb1685df56\")) {window._Plotly.Plots.resize(document.getElementById(\"c0d6f8e0-c50c-4df4-bcf3-bdbb1685df56\"));};})</script>"
      ],
      "text/vnd.plotly.v1+html": [
       "<div id=\"c0d6f8e0-c50c-4df4-bcf3-bdbb1685df56\" style=\"height: 525px; width: 100%;\" class=\"plotly-graph-div\"></div><script type=\"text/javascript\">require([\"plotly\"], function(Plotly) { window.PLOTLYENV=window.PLOTLYENV || {};window.PLOTLYENV.BASE_URL=\"https://plot.ly\";\n",
       "if (document.getElementById(\"c0d6f8e0-c50c-4df4-bcf3-bdbb1685df56\")) {\n",
       "    Plotly.newPlot(\"c0d6f8e0-c50c-4df4-bcf3-bdbb1685df56\", [{\"marker\": {\"color\": [0.36653897111746975, 0.6961524871486853, 0.5722915966175134, 0.22995730275565068, -1.344223914936275, 0.7868645997215173, -0.5309476741029651, -0.7006910276752563, 1.222131199136191, -0.5495966956646963, -1.5878003723716, -0.6389528188600644, -0.8971068271934691, -0.5665620987569724, 0.9061505307991036, -1.5681780048651552, -0.11278470665873618, -0.4148754711547196, -1.6478316199066112, 0.4448436441889945, 1.4265120340897723, -0.8157079821572241, 0.4194776802696665, -0.32092316915743446, -0.8458606077774131, -1.1147586514893633, -2.0083715260439714, 0.4455221429758076, 0.40338101013275757, 1.0707291941267316, -0.26906150199764717, -0.6843150424629005, 0.8916670065946986, -0.04648451630218036, 1.1799420871539728, -1.0650452669886725, -2.797761538331304, 0.9701944153025249, 2.003667454488125, 0.7893030992573686, -0.1842444719644788, 1.1376743593766543, -1.271965795628564, 0.5812188176346769, 0.7389974645723644, -1.0359531284376395, 0.9809143411376966], \"colorscale\": \"Viridis\", \"opacity\": 0.6, \"size\": 15}, \"mode\": \"markers\", \"x\": [1970, 1971, 1972, 1973, 1974, 1975, 1976, 1977, 1978, 1979, 1980, 1981, 1982, 1983, 1984, 1985, 1986, 1987, 1988, 1989, 1990, 1991, 1992, 1994, 1995, 1996, 1997, 1998, 1999, 2000, 2001, 2002, 2003, 2004, 2005, 2006, 2007, 2008, 2009, 2010, 2011, 2012, 2013, 2014, 2015, 2016, 2017], \"y\": [174.0, 173.0, 566.0, 370.0, 539.0, 617.0, 674.0, 456.0, 1459.0, 2100.0, 4400.0, 4851.0, 5136.0, 9444.0, 10450.0, 7094.0, 4976.0, 6482.0, 7208.0, 8152.0, 7148.0, 8429.0, 9742.0, 7690.0, 6103.0, 6966.0, 10924.0, 4688.0, 3393.0, 4403.0, 7729.0, 4805.0, 3317.0, 5743.0, 6331.0, 9380.0, 12824.0, 9157.0, 9273.0, 7827.0, 8246.0, 15497.0, 22273.0, 44490.0, 38853.0, 34871.0, 26445.0], \"type\": \"scatter\", \"uid\": \"d3e31d13-0ac7-4604-95bd-d8ccd4889c9b\"}], {}, {\"showLink\": false, \"linkText\": \"Export to plot.ly\", \"plotlyServerURL\": \"https://plot.ly\"}); \n",
       "}\n",
       "});</script><script type=\"text/javascript\">window.addEventListener(\"resize\", function(){if (document.getElementById(\"c0d6f8e0-c50c-4df4-bcf3-bdbb1685df56\")) {window._Plotly.Plots.resize(document.getElementById(\"c0d6f8e0-c50c-4df4-bcf3-bdbb1685df56\"));};})</script>"
      ]
     },
     "metadata": {},
     "output_type": "display_data"
    }
   ],
   "source": [
    "\n",
    "x = df2['iyear']\n",
    "y = df2['nkill']\n",
    "colors = np.random.randn(47)\n",
    "sz = 15\n",
    "fig = go.Figure()\n",
    "fig.add_scatter(\n",
    "    x = x, \n",
    "    y = y, \n",
    "    mode = 'markers', \n",
    "    marker = {\n",
    "        'size':sz,\n",
    "        'color':colors,\n",
    "        'opacity':0.6,\n",
    "        'colorscale':'Viridis'\n",
    "    });\n",
    "iplot(fig)"
   ]
  },
  {
   "cell_type": "markdown",
   "metadata": {
    "_uuid": "bd31273ad7ad39d57a26a3d72c1b2a1c865b7ad2"
   },
   "source": [
    "The figure above demonstrates total no. of people killed each year due to terror attacks from 1970 to 2017   "
   ]
  },
  {
   "cell_type": "code",
   "execution_count": 47,
   "metadata": {
    "_uuid": "8add9bb24f541bea80ad4b33c6f8838b4f254ddf"
   },
   "outputs": [
    {
     "data": {
      "application/vnd.plotly.v1+json": {
       "config": {
        "linkText": "Export to plot.ly",
        "plotlyServerURL": "https://plot.ly",
        "showLink": false
       },
       "data": [
        {
         "marker": {
          "color": [
           3.105320072119256,
           1.3712587649717767,
           -0.2390145317181732,
           -0.4197691139604879,
           1.0007321441712351,
           0.11939331821679507,
           -0.030927304937343806,
           -0.6131700763370818,
           -0.28053914645254335,
           -0.5677490475731424,
           0.32694909791727267,
           1.423243907197826,
           0.6529362837214338,
           -0.7406236704925169,
           -0.22372328464899904,
           -2.15172257525493,
           0.8795239955472914,
           -0.5219968494677397,
           -0.3428849011211156,
           0.6216577156200228,
           -0.8026297468661427,
           0.8173042303072633,
           -0.3874750800462645,
           1.761593146185539,
           -0.7361673468393105,
           -0.1708323277919007,
           0.4030536511148028,
           1.8640356956764008,
           0.06870750597372745,
           -0.2404864348885439,
           0.09183418346268502,
           -0.39130724610187323,
           -0.9945631240792232,
           -0.7979217170882981,
           -0.3676044567080848,
           -0.30511660986916156,
           1.6386272127894717,
           -0.008321088570882472,
           0.5950458587146552,
           -0.8321487061164963,
           0.9677737100471779,
           0.015649220759220858,
           0.8389689383033456,
           -0.4868378003635402,
           -0.5000123483599411,
           -0.5758080436449641,
           0.8987376376262046
          ],
          "colorscale": "Viridis",
          "opacity": 0.6,
          "size": 15
         },
         "mode": "markers",
         "type": "scatter",
         "uid": "2dbbdf2a-4d5d-4775-b476-ab911e0c0223",
         "x": [
          1970,
          1971,
          1972,
          1973,
          1974,
          1975,
          1976,
          1977,
          1978,
          1979,
          1980,
          1981,
          1982,
          1983,
          1984,
          1985,
          1986,
          1987,
          1988,
          1989,
          1990,
          1991,
          1992,
          1994,
          1995,
          1996,
          1997,
          1998,
          1999,
          2000,
          2001,
          2002,
          2003,
          2004,
          2005,
          2006,
          2007,
          2008,
          2009,
          2010,
          2011,
          2012,
          2013,
          2014,
          2015,
          2016,
          2017
         ],
         "y": [
          212.0,
          82.0,
          409.0,
          495.0,
          865.0,
          617.0,
          756.0,
          518.0,
          1600.0,
          2506.0,
          3645.0,
          3337.0,
          3342.0,
          4047.0,
          5291.0,
          5130.0,
          5814.0,
          5775.0,
          6960.0,
          5539.0,
          6128.0,
          7591.0,
          9915.0,
          7569.0,
          14292.0,
          10795.0,
          9072.0,
          8183.0,
          5341.0,
          5869.0,
          22774.0,
          7162.0,
          7384.0,
          12022.0,
          12784.0,
          15550.0,
          22524.0,
          18998.0,
          19138.0,
          15947.0,
          14659.0,
          25445.0,
          37688.0,
          41128.0,
          44043.0,
          40001.0,
          24927.0
         ]
        }
       ],
       "layout": {}
      },
      "text/html": [
       "<div id=\"3fd83b67-7742-49aa-987a-dd11bfdcd28f\" style=\"height: 525px; width: 100%;\" class=\"plotly-graph-div\"></div><script type=\"text/javascript\">require([\"plotly\"], function(Plotly) { window.PLOTLYENV=window.PLOTLYENV || {};window.PLOTLYENV.BASE_URL=\"https://plot.ly\";\n",
       "if (document.getElementById(\"3fd83b67-7742-49aa-987a-dd11bfdcd28f\")) {\n",
       "    Plotly.newPlot(\"3fd83b67-7742-49aa-987a-dd11bfdcd28f\", [{\"marker\": {\"color\": [3.105320072119256, 1.3712587649717767, -0.2390145317181732, -0.4197691139604879, 1.0007321441712351, 0.11939331821679507, -0.030927304937343806, -0.6131700763370818, -0.28053914645254335, -0.5677490475731424, 0.32694909791727267, 1.423243907197826, 0.6529362837214338, -0.7406236704925169, -0.22372328464899904, -2.15172257525493, 0.8795239955472914, -0.5219968494677397, -0.3428849011211156, 0.6216577156200228, -0.8026297468661427, 0.8173042303072633, -0.3874750800462645, 1.761593146185539, -0.7361673468393105, -0.1708323277919007, 0.4030536511148028, 1.8640356956764008, 0.06870750597372745, -0.2404864348885439, 0.09183418346268502, -0.39130724610187323, -0.9945631240792232, -0.7979217170882981, -0.3676044567080848, -0.30511660986916156, 1.6386272127894717, -0.008321088570882472, 0.5950458587146552, -0.8321487061164963, 0.9677737100471779, 0.015649220759220858, 0.8389689383033456, -0.4868378003635402, -0.5000123483599411, -0.5758080436449641, 0.8987376376262046], \"colorscale\": \"Viridis\", \"opacity\": 0.6, \"size\": 15}, \"mode\": \"markers\", \"x\": [1970, 1971, 1972, 1973, 1974, 1975, 1976, 1977, 1978, 1979, 1980, 1981, 1982, 1983, 1984, 1985, 1986, 1987, 1988, 1989, 1990, 1991, 1992, 1994, 1995, 1996, 1997, 1998, 1999, 2000, 2001, 2002, 2003, 2004, 2005, 2006, 2007, 2008, 2009, 2010, 2011, 2012, 2013, 2014, 2015, 2016, 2017], \"y\": [212.0, 82.0, 409.0, 495.0, 865.0, 617.0, 756.0, 518.0, 1600.0, 2506.0, 3645.0, 3337.0, 3342.0, 4047.0, 5291.0, 5130.0, 5814.0, 5775.0, 6960.0, 5539.0, 6128.0, 7591.0, 9915.0, 7569.0, 14292.0, 10795.0, 9072.0, 8183.0, 5341.0, 5869.0, 22774.0, 7162.0, 7384.0, 12022.0, 12784.0, 15550.0, 22524.0, 18998.0, 19138.0, 15947.0, 14659.0, 25445.0, 37688.0, 41128.0, 44043.0, 40001.0, 24927.0], \"type\": \"scatter\", \"uid\": \"2dbbdf2a-4d5d-4775-b476-ab911e0c0223\"}], {}, {\"showLink\": false, \"linkText\": \"Export to plot.ly\", \"plotlyServerURL\": \"https://plot.ly\"}); \n",
       "}\n",
       "});</script><script type=\"text/javascript\">window.addEventListener(\"resize\", function(){if (document.getElementById(\"3fd83b67-7742-49aa-987a-dd11bfdcd28f\")) {window._Plotly.Plots.resize(document.getElementById(\"3fd83b67-7742-49aa-987a-dd11bfdcd28f\"));};})</script>"
      ],
      "text/vnd.plotly.v1+html": [
       "<div id=\"3fd83b67-7742-49aa-987a-dd11bfdcd28f\" style=\"height: 525px; width: 100%;\" class=\"plotly-graph-div\"></div><script type=\"text/javascript\">require([\"plotly\"], function(Plotly) { window.PLOTLYENV=window.PLOTLYENV || {};window.PLOTLYENV.BASE_URL=\"https://plot.ly\";\n",
       "if (document.getElementById(\"3fd83b67-7742-49aa-987a-dd11bfdcd28f\")) {\n",
       "    Plotly.newPlot(\"3fd83b67-7742-49aa-987a-dd11bfdcd28f\", [{\"marker\": {\"color\": [3.105320072119256, 1.3712587649717767, -0.2390145317181732, -0.4197691139604879, 1.0007321441712351, 0.11939331821679507, -0.030927304937343806, -0.6131700763370818, -0.28053914645254335, -0.5677490475731424, 0.32694909791727267, 1.423243907197826, 0.6529362837214338, -0.7406236704925169, -0.22372328464899904, -2.15172257525493, 0.8795239955472914, -0.5219968494677397, -0.3428849011211156, 0.6216577156200228, -0.8026297468661427, 0.8173042303072633, -0.3874750800462645, 1.761593146185539, -0.7361673468393105, -0.1708323277919007, 0.4030536511148028, 1.8640356956764008, 0.06870750597372745, -0.2404864348885439, 0.09183418346268502, -0.39130724610187323, -0.9945631240792232, -0.7979217170882981, -0.3676044567080848, -0.30511660986916156, 1.6386272127894717, -0.008321088570882472, 0.5950458587146552, -0.8321487061164963, 0.9677737100471779, 0.015649220759220858, 0.8389689383033456, -0.4868378003635402, -0.5000123483599411, -0.5758080436449641, 0.8987376376262046], \"colorscale\": \"Viridis\", \"opacity\": 0.6, \"size\": 15}, \"mode\": \"markers\", \"x\": [1970, 1971, 1972, 1973, 1974, 1975, 1976, 1977, 1978, 1979, 1980, 1981, 1982, 1983, 1984, 1985, 1986, 1987, 1988, 1989, 1990, 1991, 1992, 1994, 1995, 1996, 1997, 1998, 1999, 2000, 2001, 2002, 2003, 2004, 2005, 2006, 2007, 2008, 2009, 2010, 2011, 2012, 2013, 2014, 2015, 2016, 2017], \"y\": [212.0, 82.0, 409.0, 495.0, 865.0, 617.0, 756.0, 518.0, 1600.0, 2506.0, 3645.0, 3337.0, 3342.0, 4047.0, 5291.0, 5130.0, 5814.0, 5775.0, 6960.0, 5539.0, 6128.0, 7591.0, 9915.0, 7569.0, 14292.0, 10795.0, 9072.0, 8183.0, 5341.0, 5869.0, 22774.0, 7162.0, 7384.0, 12022.0, 12784.0, 15550.0, 22524.0, 18998.0, 19138.0, 15947.0, 14659.0, 25445.0, 37688.0, 41128.0, 44043.0, 40001.0, 24927.0], \"type\": \"scatter\", \"uid\": \"2dbbdf2a-4d5d-4775-b476-ab911e0c0223\"}], {}, {\"showLink\": false, \"linkText\": \"Export to plot.ly\", \"plotlyServerURL\": \"https://plot.ly\"}); \n",
       "}\n",
       "});</script><script type=\"text/javascript\">window.addEventListener(\"resize\", function(){if (document.getElementById(\"3fd83b67-7742-49aa-987a-dd11bfdcd28f\")) {window._Plotly.Plots.resize(document.getElementById(\"3fd83b67-7742-49aa-987a-dd11bfdcd28f\"));};})</script>"
      ]
     },
     "metadata": {},
     "output_type": "display_data"
    }
   ],
   "source": [
    "x1 = df3['iyear']\n",
    "y1 = df3['nwound']\n",
    "colors = np.random.randn(47)\n",
    "sz = 15\n",
    "fig = go.Figure()\n",
    "fig.add_scatter(\n",
    "    x = x1, \n",
    "    y = y1, \n",
    "    mode = 'markers',\n",
    "    marker = {\n",
    "        'size':sz,\n",
    "        'color':colors,\n",
    "        'opacity':0.6,\n",
    "        'colorscale':'Viridis'\n",
    "    });\n",
    "iplot(fig)"
   ]
  },
  {
   "cell_type": "markdown",
   "metadata": {
    "_uuid": "ad08323834905be6456e5ee13dc1568043a5462d"
   },
   "source": [
    "The figure above demonstrates total no. of people wounded each year due to terror attacks from 1970 to 2017."
   ]
  }
 ],
 "metadata": {
  "kernelspec": {
   "display_name": "Python 3",
   "language": "python",
   "name": "python3"
  },
  "language_info": {
   "codemirror_mode": {
    "name": "ipython",
    "version": 3
   },
   "file_extension": ".py",
   "mimetype": "text/x-python",
   "name": "python",
   "nbconvert_exporter": "python",
   "pygments_lexer": "ipython3",
   "version": "3.6.6"
  }
 },
 "nbformat": 4,
 "nbformat_minor": 1
}
